{
 "cells": [
  {
   "cell_type": "markdown",
   "id": "fc3d2e25",
   "metadata": {
    "id": "9c8fe426-becb-4708-9813-ba2b4d0bb766",
    "papermill": {
     "duration": 0.020673,
     "end_time": "2025-03-18T12:19:05.624406",
     "exception": false,
     "start_time": "2025-03-18T12:19:05.603733",
     "status": "completed"
    },
    "tags": []
   },
   "source": [
    "Dans le secteur de la santé à domicile, les infirmiers et les médecins effectuent des tournées pour visiter plusieurs patients à leur domicile. L'optimisation de ces tournées est essentielle pour :\n",
    "\n",
    "* Réduire le temps de trajet, permettant de voir plus de patients en moins de temps.\n",
    "* Minimiser les coûts (essence, usure du véhicule, frais de déplacement).\n",
    "* Améliorer la qualité des soins en réduisant la fatigue des soignants et en garantissant la ponctualité."
   ]
  },
  {
   "cell_type": "markdown",
   "id": "7cda12f3",
   "metadata": {
    "id": "3ddc2f7b-d6ef-4c99-8cf3-1df9ba19e39f",
    "papermill": {
     "duration": 0.017992,
     "end_time": "2025-03-18T12:19:05.661222",
     "exception": false,
     "start_time": "2025-03-18T12:19:05.643230",
     "status": "completed"
    },
    "tags": []
   },
   "source": [
    "Cette problématique peut être directement modélisée comme un **Problème du Voyageur de Commerce (PVC)**, en anglais the **Traveling Salesman Problem (TSP)**. Ce problème est bien connu dans la littérature, il peut être exprimé comme suit :"
   ]
  },
  {
   "cell_type": "markdown",
   "id": "2e546a6c",
   "metadata": {
    "id": "30611229-18f2-4d22-bc7d-484161db3db3",
    "papermill": {
     "duration": 0.018342,
     "end_time": "2025-03-18T12:19:05.698753",
     "exception": false,
     "start_time": "2025-03-18T12:19:05.680411",
     "status": "completed"
    },
    "tags": []
   },
   "source": [
    "# Étant donné une liste de points et les distances entre chaque paire de points, quel est l'itinéraire le plus court possible pour visiter chaque point et revenir au point de départ ?"
   ]
  },
  {
   "cell_type": "markdown",
   "id": "545582f7",
   "metadata": {
    "id": "cfd2f975-102f-4e26-be69-21bf8a9bc642",
    "papermill": {
     "duration": 0.019832,
     "end_time": "2025-03-18T12:19:05.738180",
     "exception": false,
     "start_time": "2025-03-18T12:19:05.718348",
     "status": "completed"
    },
    "tags": []
   },
   "source": [
    "Ce problème possède plusieurs variantes et applications. Dans le domaine de la santé, outre l'optimisation des ressources pour l'HAD (Hospitalisation à Domicile) – https://hal.science/hal-01044652, il trouve également des applications intéressantes en bioinformatique, notamment dans la construction de cartes génétiques (gene mapping).\n",
    "\n",
    "L’objectif du gene mapping est de déterminer l’emplacement des gènes sur les chromosomes et d’identifier leurs relations avec des traits spécifiques ou des maladies. Les gènes peuvent être représentés comme des \"points\" sur un chromosome, et les distances entre eux sont mesurées en nombre de paires de bases, une unité correspondant à la longueur d'une séquence d'ADN :\n",
    "\n",
    "* https://www.sciencedirect.com/science/article/pii/S2214514120300519\n",
    "* https://www.ncbi.nlm.nih.gov/pmc/articles/PMC6816573\n",
    "* https://miat.inrae.fr/degivry/Givry03c.pdff\n",
    "\n"
   ]
  },
  {
   "cell_type": "markdown",
   "id": "b9aeb759",
   "metadata": {
    "id": "771f31e7-294e-4002-900f-314a007d4556",
    "papermill": {
     "duration": 0.017937,
     "end_time": "2025-03-18T12:19:05.774230",
     "exception": false,
     "start_time": "2025-03-18T12:19:05.756293",
     "status": "completed"
    },
    "tags": []
   },
   "source": [
    "Dans le cadre de ce TD, nous nous intéressons à la version originale de ce problème d'optimisation. Plusieurs méthodes sont possibles pour sa résolution. Nous utiliserons l'Algorithmes Génétique (AG) qui fait partie des méthodes approchées de résolution permettant une exploration parallèle dans l'espace de recherche."
   ]
  },
  {
   "cell_type": "markdown",
   "id": "bd9702a0",
   "metadata": {
    "id": "0b7bb2e4-d97c-4489-a20a-c60660f18ada",
    "papermill": {
     "duration": 0.018307,
     "end_time": "2025-03-18T12:19:05.810778",
     "exception": false,
     "start_time": "2025-03-18T12:19:05.792471",
     "status": "completed"
    },
    "tags": []
   },
   "source": [
    "**<span style=\"color:red\">\n",
    "NOTE IMPORTANTE\n",
    "</span>**"
   ]
  },
  {
   "cell_type": "markdown",
   "id": "262d9ab1",
   "metadata": {
    "id": "4b13e034-2a37-4af5-afcb-07d4ac5c5629",
    "papermill": {
     "duration": 0.021085,
     "end_time": "2025-03-18T12:19:05.850025",
     "exception": false,
     "start_time": "2025-03-18T12:19:05.828940",
     "status": "completed"
    },
    "tags": []
   },
   "source": [
    "Nous nous intéresserons plus particulièrement à l'optimisation collaborative : un SMA d'agents optimisateurs qui, en collaborant, essaient de converger le plus rapidement possible vers la solution optimale. Notre objectif est donc de comparer le travail d'un AG unique contre un SMA collaboratif avec des agents ayant des comportements optimisateurs. Nous commencerons avec des comportements optimisateurs basés uniquement sur les AGs. Vous pouvez par la suite tester la collaboration de plusieurs agents ayant des comportements optimisateurs différents."
   ]
  },
  {
   "cell_type": "markdown",
   "id": "6bf5b5a9",
   "metadata": {
    "id": "0258e9cb-6f69-4c3f-b66c-42906d30c2cc",
    "papermill": {
     "duration": 0.019433,
     "end_time": "2025-03-18T12:19:05.890501",
     "exception": false,
     "start_time": "2025-03-18T12:19:05.871068",
     "status": "completed"
    },
    "tags": []
   },
   "source": [
    "# Partie 1 : Point, Liste de points et itinéraires"
   ]
  },
  {
   "cell_type": "markdown",
   "id": "e677aa00",
   "metadata": {
    "id": "00823e6c-34c3-446d-93cf-a7ab28143d8b",
    "papermill": {
     "duration": 0.019274,
     "end_time": "2025-03-18T12:19:05.928276",
     "exception": false,
     "start_time": "2025-03-18T12:19:05.909002",
     "status": "completed"
    },
    "tags": []
   },
   "source": [
    "1. Créez la classe _Point_  :\n",
    "* Avec un constructeur permettant de créer un point avec ses coordonnées x et y correspondant à l'abscisse et l'ordonnée d'une case dans un plan cartésien.\n",
    "* Redéfinissez la fonction native _**repr**_ pour afficher proprement les coordonnées d'un point sous forme (x,y).\n",
    "* Testez cette classe en créant quelques points et en les affichant"
   ]
  },
  {
   "cell_type": "markdown",
   "id": "209063c2",
   "metadata": {
    "id": "793dd68c-d19a-4176-a210-9e510eee9666",
    "papermill": {
     "duration": 0.01836,
     "end_time": "2025-03-18T12:19:05.966465",
     "exception": false,
     "start_time": "2025-03-18T12:19:05.948105",
     "status": "completed"
    },
    "tags": []
   },
   "source": [
    "**<span style=\"color:red\">\n",
    "SOLUTION\n",
    "</span>**"
   ]
  },
  {
   "cell_type": "code",
   "execution_count": 1,
   "id": "77c459dc",
   "metadata": {
    "execution": {
     "iopub.execute_input": "2025-03-18T12:19:06.005645Z",
     "iopub.status.busy": "2025-03-18T12:19:06.005286Z",
     "iopub.status.idle": "2025-03-18T12:19:06.013459Z",
     "shell.execute_reply": "2025-03-18T12:19:06.012273Z"
    },
    "id": "b40a894c-7072-4504-946b-954f9a701d29",
    "outputId": "f5e8d422-dbca-4be4-eaf8-bc9b79684f14",
    "papermill": {
     "duration": 0.029032,
     "end_time": "2025-03-18T12:19:06.015256",
     "exception": false,
     "start_time": "2025-03-18T12:19:05.986224",
     "status": "completed"
    },
    "tags": []
   },
   "outputs": [
    {
     "name": "stdout",
     "output_type": "stream",
     "text": [
      "(2, 3)\n",
      "(2, 5)\n"
     ]
    }
   ],
   "source": [
    "class Point:\n",
    "    def __init__(self,x,y):\n",
    "        self.x = x\n",
    "        self.y = y\n",
    "\n",
    "    def repr(self):\n",
    "        return f\"{(self.x,self.y)}\"\n",
    "\n",
    "\n",
    "p1 = Point(2,3)\n",
    "p2 = Point(2,5)\n",
    "print(p1.repr())\n",
    "print(p2.repr())\n",
    "\n"
   ]
  },
  {
   "cell_type": "markdown",
   "id": "ca52e6fe",
   "metadata": {
    "id": "1e07236b-000f-4c79-9cbc-16bec8e473bb",
    "papermill": {
     "duration": 0.018622,
     "end_time": "2025-03-18T12:19:06.052292",
     "exception": false,
     "start_time": "2025-03-18T12:19:06.033670",
     "status": "completed"
    },
    "tags": []
   },
   "source": [
    "2. Ajoutez à la classe _**Point**_ la fonction **_distance_** (qu'il faut tester) permettant de retourner la distance entre le point actuel et un autre point en paramètre. Utilisez le théorème de Pythagore pour calculer la distance orthogonale entre 2 points p et q de coordonnées (p1,p2) et (q1,q2) comme le montre la figure ci-dessous :"
   ]
  },
  {
   "cell_type": "markdown",
   "id": "24668940",
   "metadata": {
    "id": "34de56b8-2e66-47c0-ba39-adbd77997fd2",
    "papermill": {
     "duration": 0.018979,
     "end_time": "2025-03-18T12:19:06.092320",
     "exception": false,
     "start_time": "2025-03-18T12:19:06.073341",
     "status": "completed"
    },
    "tags": []
   },
   "source": [
    "![Pythagore](https://upload.wikimedia.org/wikipedia/commons/thumb/5/55/Euclidean_distance_2d.svg/1920px-Euclidean_distance_2d.svg.png)"
   ]
  },
  {
   "cell_type": "markdown",
   "id": "8dce3b97",
   "metadata": {
    "id": "bd1e112f-c1b3-49bf-abfc-bcf1955efbce",
    "papermill": {
     "duration": 0.017988,
     "end_time": "2025-03-18T12:19:06.128543",
     "exception": false,
     "start_time": "2025-03-18T12:19:06.110555",
     "status": "completed"
    },
    "tags": []
   },
   "source": [
    "**<span style=\"color:red\">\n",
    "SOLUTION\n",
    "</span>**"
   ]
  },
  {
   "cell_type": "code",
   "execution_count": 2,
   "id": "4c3e0ea6",
   "metadata": {
    "execution": {
     "iopub.execute_input": "2025-03-18T12:19:06.166115Z",
     "iopub.status.busy": "2025-03-18T12:19:06.165762Z",
     "iopub.status.idle": "2025-03-18T12:19:06.172455Z",
     "shell.execute_reply": "2025-03-18T12:19:06.171367Z"
    },
    "id": "596084ff-4d45-43aa-9459-7cd60369a0f4",
    "outputId": "f24a31d2-39fe-4607-f8d3-0db31aef8e06",
    "papermill": {
     "duration": 0.027291,
     "end_time": "2025-03-18T12:19:06.174081",
     "exception": false,
     "start_time": "2025-03-18T12:19:06.146790",
     "status": "completed"
    },
    "tags": []
   },
   "outputs": [
    {
     "name": "stdout",
     "output_type": "stream",
     "text": [
      "(2, 3)\n",
      "2.0\n"
     ]
    }
   ],
   "source": [
    "class Point:\n",
    "    def __init__(self,x,y):\n",
    "        self.x = x\n",
    "        self.y = y\n",
    "\n",
    "    def __repr__(self):\n",
    "        return f\"{(self.x,self.y)}\"\n",
    "\n",
    "    def dist(self,p):\n",
    "        x = self.x\n",
    "        y = self.y\n",
    "        px = p.x\n",
    "        py = p.y\n",
    "        return ( (x-px)**2 + (y-py)**2  )**(1/2)\n",
    "\n",
    "p1 = Point(2,3)\n",
    "p2 = Point(2,5)\n",
    "print(p1)\n",
    "print(p1.dist(p2))\n"
   ]
  },
  {
   "cell_type": "markdown",
   "id": "875af02f",
   "metadata": {
    "id": "e6d94b30-35fc-4fbd-952d-2f4c5e7cec59",
    "papermill": {
     "duration": 0.018103,
     "end_time": "2025-03-18T12:19:06.210660",
     "exception": false,
     "start_time": "2025-03-18T12:19:06.192557",
     "status": "completed"
    },
    "tags": []
   },
   "source": [
    "3. Dans un programme principal :\n",
    "* Créez :\n",
    "    * une variable N : initialisée au nombre de points à visiter.\n",
    "    * les variables L et H : initialisées à la longueur et la hauteur de la grille où sont placés vos points.\n",
    "    * une liste vide appelée **pointsL** qui va contenir vos N points de type Point.\n",
    "* Alimentez cette liste avec vos N points avec des coordonnées x et y générés aléatoirement avec x<=L et y<=H.\n",
    "* Affichez le contenu de cette liste."
   ]
  },
  {
   "cell_type": "markdown",
   "id": "c9b3e89b",
   "metadata": {
    "id": "4b5dc4b0-ae50-498a-b746-b2d336f821c0",
    "papermill": {
     "duration": 0.019362,
     "end_time": "2025-03-18T12:19:06.248395",
     "exception": false,
     "start_time": "2025-03-18T12:19:06.229033",
     "status": "completed"
    },
    "tags": []
   },
   "source": [
    "**<span style=\"color:red\">\n",
    "SOLUTION\n",
    "</span>**"
   ]
  },
  {
   "cell_type": "code",
   "execution_count": 3,
   "id": "de0a7372",
   "metadata": {
    "execution": {
     "iopub.execute_input": "2025-03-18T12:19:06.288336Z",
     "iopub.status.busy": "2025-03-18T12:19:06.287933Z",
     "iopub.status.idle": "2025-03-18T12:19:06.294649Z",
     "shell.execute_reply": "2025-03-18T12:19:06.292939Z"
    },
    "id": "96285509-2fe5-444b-a6c6-863eafef0287",
    "outputId": "791ce21a-6644-4aa1-b2d3-4b9ad93bb8fc",
    "papermill": {
     "duration": 0.029801,
     "end_time": "2025-03-18T12:19:06.296571",
     "exception": false,
     "start_time": "2025-03-18T12:19:06.266770",
     "status": "completed"
    },
    "tags": []
   },
   "outputs": [
    {
     "name": "stdout",
     "output_type": "stream",
     "text": [
      "[(1, 3), (8, 8), (7, 7), (4, 7), (10, 2), (1, 0), (4, 7), (6, 9), (4, 1), (5, 1)]\n"
     ]
    }
   ],
   "source": [
    "import random as rd\n",
    "N = 10\n",
    "L = 10\n",
    "H = 10\n",
    "pointsL = []\n",
    "for _ in range(N):\n",
    "    x = rd.randint(0,L)\n",
    "    y = rd.randint(0,H)\n",
    "    point = Point(x,y)\n",
    "    pointsL.append(point)\n",
    "print(pointsL)"
   ]
  },
  {
   "cell_type": "markdown",
   "id": "b8b25658",
   "metadata": {
    "id": "97deeb81-1bdb-4a48-af93-4ac328c0f99d",
    "papermill": {
     "duration": 0.017893,
     "end_time": "2025-03-18T12:19:06.333730",
     "exception": false,
     "start_time": "2025-03-18T12:19:06.315837",
     "status": "completed"
    },
    "tags": []
   },
   "source": [
    "4. Créez une fonction indépendante _**createIt**_ qui permet, à partir d'une liste de points (de type Point), de générer une nouvelle liste composée des mêmes éléments de la liste de départ mais avec un ordre complètement aléatoire. L'objectif est de générer des itinéraires complétement aléatoires entre les différents points d'une même liste de points.\n",
    "\\\n",
    "Pensez à la fonction _**sample**_ de la bibliothèque _**random**_ (voir API Python). Testez-la avec la liste **pointsL** que vous avez créée précédemment en générant quelques itinéraires aléatoires à partir de cette même liste. Affichez ces itinéraires issus de la même liste de points **pointsL**."
   ]
  },
  {
   "cell_type": "markdown",
   "id": "bf1619e4",
   "metadata": {
    "id": "bd6adb63-61bf-43e9-8551-374665b82355",
    "papermill": {
     "duration": 0.018827,
     "end_time": "2025-03-18T12:19:06.371312",
     "exception": false,
     "start_time": "2025-03-18T12:19:06.352485",
     "status": "completed"
    },
    "tags": []
   },
   "source": [
    "**<span style=\"color:red\">\n",
    "SOLUTION\n",
    "</span>**"
   ]
  },
  {
   "cell_type": "code",
   "execution_count": 4,
   "id": "f4710d6b",
   "metadata": {
    "execution": {
     "iopub.execute_input": "2025-03-18T12:19:06.409350Z",
     "iopub.status.busy": "2025-03-18T12:19:06.408889Z",
     "iopub.status.idle": "2025-03-18T12:19:06.414518Z",
     "shell.execute_reply": "2025-03-18T12:19:06.413247Z"
    },
    "id": "69571009-28af-4e64-bf73-cfce34889d7a",
    "outputId": "41fe9ab8-dcff-4cdb-ca6b-160388fcc91f",
    "papermill": {
     "duration": 0.026553,
     "end_time": "2025-03-18T12:19:06.416270",
     "exception": false,
     "start_time": "2025-03-18T12:19:06.389717",
     "status": "completed"
    },
    "tags": []
   },
   "outputs": [
    {
     "name": "stdout",
     "output_type": "stream",
     "text": [
      "[(1, 3), (8, 8), (7, 7), (4, 7), (10, 2), (1, 0), (4, 7), (6, 9), (4, 1), (5, 1)]\n"
     ]
    }
   ],
   "source": [
    "def createlt(L_points):\n",
    "    return rd.sample(L_points,len(L_points))\n",
    "print(pointsL)"
   ]
  },
  {
   "cell_type": "markdown",
   "id": "661e85b0",
   "metadata": {
    "id": "38e24baf-26ab-4fc3-833d-1414b9c9a79c",
    "papermill": {
     "duration": 0.018996,
     "end_time": "2025-03-18T12:19:06.454024",
     "exception": false,
     "start_time": "2025-03-18T12:19:06.435028",
     "status": "completed"
    },
    "tags": []
   },
   "source": [
    "# Partie 2 : L'Algorithme génétique (AG)"
   ]
  },
  {
   "cell_type": "markdown",
   "id": "74959f59",
   "metadata": {
    "id": "05acdb76-722f-4c35-b644-392cbefcf6da",
    "papermill": {
     "duration": 0.018095,
     "end_time": "2025-03-18T12:19:06.490805",
     "exception": false,
     "start_time": "2025-03-18T12:19:06.472710",
     "status": "completed"
    },
    "tags": []
   },
   "source": [
    "Un AG cherche à converger vers la solution optimale (pour notre PVC : l’itinéraire avec la distance à parcourir la plus faible) grâce à une recherche parallèle avec une population de solutions. Donc, pour notre PVC, à partir d'une population initiale d'itinéraires, un AG va générer une nouvelle population d'itinéraires qui va évoluer au fur et à mesure des générations comme le montre la figure ci-dessous."
   ]
  },
  {
   "cell_type": "markdown",
   "id": "e38e6dc3",
   "metadata": {
    "id": "30a0487d-b453-4774-a34f-59cf1fad8ac4",
    "papermill": {
     "duration": 0.018304,
     "end_time": "2025-03-18T12:19:06.586033",
     "exception": false,
     "start_time": "2025-03-18T12:19:06.567729",
     "status": "completed"
    },
    "tags": []
   },
   "source": [
    "![AG](https://upload.wikimedia.org/wikipedia/commons/4/42/Schema_simple_algorithme_genetique.png)"
   ]
  },
  {
   "cell_type": "markdown",
   "id": "a8055e6b",
   "metadata": {
    "id": "b17394a2-269a-43f1-8e49-2876951530e8",
    "papermill": {
     "duration": 0.018196,
     "end_time": "2025-03-18T12:19:06.622678",
     "exception": false,
     "start_time": "2025-03-18T12:19:06.604482",
     "status": "completed"
    },
    "tags": []
   },
   "source": [
    "## Chromosome et gène"
   ]
  },
  {
   "cell_type": "markdown",
   "id": "3829d111",
   "metadata": {
    "id": "63c1aaa1-ee8e-481f-965e-8578b86464e9",
    "papermill": {
     "duration": 0.017921,
     "end_time": "2025-03-18T12:19:06.658968",
     "exception": false,
     "start_time": "2025-03-18T12:19:06.641047",
     "status": "completed"
    },
    "tags": []
   },
   "source": [
    "Une solution d'un algorithme génétique s'appelle un chromosome et un gène en est une partie. Un chromosome d'un AG peut avoir n'importe quelle forme (liste, matrice...). Cette dernière doit être pertinente pour votre algorithme et la résolution du problème cible."
   ]
  },
  {
   "cell_type": "markdown",
   "id": "db78c2e8",
   "metadata": {
    "id": "38b893b9-7471-4d4b-9cdc-e77ed4b2b447",
    "papermill": {
     "duration": 0.018894,
     "end_time": "2025-03-18T12:19:06.696241",
     "exception": false,
     "start_time": "2025-03-18T12:19:06.677347",
     "status": "completed"
    },
    "tags": []
   },
   "source": [
    "Dans le cadre de ce TD, un chromosome correspond à un itinéraire possible sous forme d'une liste de points. L'ordre des points d'un itinéraire correspond à l'ordre de passage sur ces points en retournant à la fin au point de départ qui correspond au 1er élément de la liste."
   ]
  },
  {
   "cell_type": "markdown",
   "id": "44ab8be4",
   "metadata": {
    "id": "d73e62be-cfc3-483d-b86c-28476a4fda04",
    "papermill": {
     "duration": 0.017966,
     "end_time": "2025-03-18T12:19:06.732795",
     "exception": false,
     "start_time": "2025-03-18T12:19:06.714829",
     "status": "completed"
    },
    "tags": []
   },
   "source": [
    "Un AG est caractérisé, entre autres, par la taille de sa population (le nombre de chromosomes). Il démarre avec une population initiale pouvant être générée aléatoirement."
   ]
  },
  {
   "cell_type": "markdown",
   "id": "f3cd519b",
   "metadata": {
    "id": "e6319e4c-def4-4b11-bf4f-7f14289636d9",
    "papermill": {
     "duration": 0.018282,
     "end_time": "2025-03-18T12:19:06.769616",
     "exception": false,
     "start_time": "2025-03-18T12:19:06.751334",
     "status": "completed"
    },
    "tags": []
   },
   "source": [
    "## Population initiale"
   ]
  },
  {
   "cell_type": "markdown",
   "id": "4ead8a26",
   "metadata": {
    "id": "392080bf-8a53-443c-8103-a670f7cc6755",
    "papermill": {
     "duration": 0.018045,
     "end_time": "2025-03-18T12:19:06.806464",
     "exception": false,
     "start_time": "2025-03-18T12:19:06.788419",
     "status": "completed"
    },
    "tags": []
   },
   "source": [
    "5. Créez la fonction indépendante __**initialPopulation**__ qui, à partir d'une taille de population __**popSize**__ et d'une liste de points _**pointsL**_, cette fonction retourne une population de chromosomes (en utilisant la fonction _**createIt**_ créée précédemment). Testez-la en créant et affichant quelques populations. Par exemple :  _**myPop1**_ de taille 10 ou _**myPop2**_ de taille 7."
   ]
  },
  {
   "cell_type": "markdown",
   "id": "206e1874",
   "metadata": {
    "id": "92e1ce99-659d-4716-83a1-7e4db7b48a8c",
    "papermill": {
     "duration": 0.018852,
     "end_time": "2025-03-18T12:19:06.843849",
     "exception": false,
     "start_time": "2025-03-18T12:19:06.824997",
     "status": "completed"
    },
    "tags": []
   },
   "source": [
    "**<span style=\"color:red\">\n",
    "SOLUTION\n",
    "</span>**"
   ]
  },
  {
   "cell_type": "code",
   "execution_count": 5,
   "id": "a136895e",
   "metadata": {
    "execution": {
     "iopub.execute_input": "2025-03-18T12:19:06.881883Z",
     "iopub.status.busy": "2025-03-18T12:19:06.881554Z",
     "iopub.status.idle": "2025-03-18T12:19:06.888301Z",
     "shell.execute_reply": "2025-03-18T12:19:06.887046Z"
    },
    "id": "f7dd2338-2bd0-4686-ae68-ce68d8b386b4",
    "outputId": "a8d35353-e3d9-4fee-dc7b-f7a453a297f9",
    "papermill": {
     "duration": 0.028142,
     "end_time": "2025-03-18T12:19:06.890332",
     "exception": false,
     "start_time": "2025-03-18T12:19:06.862190",
     "status": "completed"
    },
    "tags": []
   },
   "outputs": [
    {
     "name": "stdout",
     "output_type": "stream",
     "text": [
      "[[(4, 7), (1, 3), (6, 9), (10, 2), (8, 8), (4, 1), (4, 7), (5, 1), (7, 7), (1, 0)], [(10, 2), (8, 8), (7, 7), (4, 1), (4, 7), (4, 7), (1, 0), (1, 3), (6, 9), (5, 1)], [(10, 2), (8, 8), (4, 1), (4, 7), (4, 7), (5, 1), (1, 3), (7, 7), (6, 9), (1, 0)], [(7, 7), (10, 2), (5, 1), (4, 7), (8, 8), (1, 0), (4, 1), (4, 7), (1, 3), (6, 9)], [(7, 7), (5, 1), (4, 7), (4, 7), (1, 3), (1, 0), (8, 8), (6, 9), (4, 1), (10, 2)], [(10, 2), (6, 9), (4, 7), (4, 1), (7, 7), (5, 1), (1, 0), (1, 3), (4, 7), (8, 8)], [(5, 1), (4, 7), (1, 3), (4, 7), (4, 1), (8, 8), (7, 7), (1, 0), (6, 9), (10, 2)], [(6, 9), (1, 0), (7, 7), (10, 2), (4, 7), (4, 1), (1, 3), (4, 7), (5, 1), (8, 8)], [(7, 7), (6, 9), (10, 2), (8, 8), (1, 3), (5, 1), (4, 1), (4, 7), (1, 0), (4, 7)], [(10, 2), (4, 7), (8, 8), (4, 1), (1, 3), (5, 1), (6, 9), (1, 0), (7, 7), (4, 7)]]\n",
      "[[(8, 8), (1, 0), (10, 2), (4, 1), (5, 1), (1, 3), (7, 7), (6, 9), (4, 7), (4, 7)], [(7, 7), (4, 7), (4, 7), (4, 1), (5, 1), (1, 0), (8, 8), (6, 9), (1, 3), (10, 2)], [(6, 9), (5, 1), (4, 1), (4, 7), (4, 7), (8, 8), (1, 0), (10, 2), (7, 7), (1, 3)], [(6, 9), (8, 8), (4, 7), (4, 7), (4, 1), (7, 7), (5, 1), (1, 0), (10, 2), (1, 3)], [(4, 1), (7, 7), (8, 8), (4, 7), (10, 2), (1, 3), (1, 0), (5, 1), (4, 7), (6, 9)], [(6, 9), (1, 0), (4, 7), (1, 3), (10, 2), (7, 7), (4, 7), (8, 8), (5, 1), (4, 1)], [(10, 2), (1, 0), (5, 1), (7, 7), (1, 3), (8, 8), (4, 7), (4, 7), (6, 9), (4, 1)], [(1, 0), (8, 8), (1, 3), (6, 9), (10, 2), (4, 1), (5, 1), (4, 7), (4, 7), (7, 7)], [(4, 1), (1, 0), (4, 7), (4, 7), (1, 3), (5, 1), (7, 7), (6, 9), (10, 2), (8, 8)], [(4, 7), (4, 1), (4, 7), (6, 9), (8, 8), (5, 1), (10, 2), (1, 0), (7, 7), (1, 3)]]\n"
     ]
    }
   ],
   "source": [
    "def initialPopulation(popSize,pointsL):\n",
    "    res = []\n",
    "    while (len(res) < len(pointsL)):\n",
    "        L = createlt(pointsL)\n",
    "        if L not in res:\n",
    "            res.append(L)\n",
    "    return res\n",
    "myPop1 = initialPopulation(10,pointsL)\n",
    "myPop2 = initialPopulation(7,pointsL)\n",
    "print(myPop1 )\n",
    "print(myPop2)\n"
   ]
  },
  {
   "cell_type": "markdown",
   "id": "c6675752",
   "metadata": {
    "id": "d844387b-3058-4e96-8afb-f6a463cdcd72",
    "papermill": {
     "duration": 0.018293,
     "end_time": "2025-03-18T12:19:06.927367",
     "exception": false,
     "start_time": "2025-03-18T12:19:06.909074",
     "status": "completed"
    },
    "tags": []
   },
   "source": [
    "## La fonction Objectif (FO) - Fitness - Critère"
   ]
  },
  {
   "cell_type": "markdown",
   "id": "6e85f19f",
   "metadata": {
    "id": "e20660ae-f05d-4bc2-9262-64a6d47dafb2",
    "papermill": {
     "duration": 0.018408,
     "end_time": "2025-03-18T12:19:06.964280",
     "exception": false,
     "start_time": "2025-03-18T12:19:06.945872",
     "status": "completed"
    },
    "tags": []
   },
   "source": [
    "L'objectif est de minimiser la distance totale en trouvant le meilleur ordre permettant de parcourir tous les points de la liste et en retournant au point de départ avec la distance la plus faible possible.\n"
   ]
  },
  {
   "cell_type": "markdown",
   "id": "0741b313",
   "metadata": {
    "id": "8734b4fe-2544-4fa6-9966-eacc2154c82f",
    "papermill": {
     "duration": 0.018118,
     "end_time": "2025-03-18T12:19:07.000931",
     "exception": false,
     "start_time": "2025-03-18T12:19:06.982813",
     "status": "completed"
    },
    "tags": []
   },
   "source": [
    "Il est recommandé de normaliser la fonction fitness d'un algorithme génétique pour qu'elle soit dans la plage de 0 à 1. La normalisation est une étape importante pour s'assurer que les valeurs de fitness restent cohérentes et comparables entre différentes exécutions de l'algorithme, ainsi qu'entre différentes populations et problèmes."
   ]
  },
  {
   "cell_type": "markdown",
   "id": "24bed554",
   "metadata": {
    "id": "3d4a2580-6f2a-43c9-84c5-008dfc0fcf59",
    "papermill": {
     "duration": 0.018399,
     "end_time": "2025-03-18T12:19:07.038178",
     "exception": false,
     "start_time": "2025-03-18T12:19:07.019779",
     "status": "completed"
    },
    "tags": []
   },
   "source": [
    "Plusieurs méthodes sont possibles, nous choisissons un fitness normalisé correspondant à l'inverse du fitness brut (la distance totale): Minimiser la distance totale revient donc à maximiser son inverse qui sera ainsi compris entre 0 et 1. La FO ou fonction objectif (fitness) à maximiser est donc l'inverse de la distance totale à minimiser. Il s'agit de l'itinéraire partant d'un point, parcourant tous les autres points de la liste dans l'ordre des indices et retournant au point de départ."
   ]
  },
  {
   "cell_type": "markdown",
   "id": "5f997ef9",
   "metadata": {
    "id": "cb39e160-33cb-4d34-b60c-5441a9c6afd6",
    "papermill": {
     "duration": 0.018237,
     "end_time": "2025-03-18T12:19:07.075081",
     "exception": false,
     "start_time": "2025-03-18T12:19:07.056844",
     "status": "completed"
    },
    "tags": []
   },
   "source": [
    "6. Créez la classe Fitness avec:\n",
    "* Le constructeur :  qui crée une instance avec un itinéraire (une variable _**it**_ en paramètre qui correspond à l'itinéraire des points à visiter). Ce constructuer initialise la variable distance à 0 et la variable fitness à 0.0 (correspondant à la valeur de la FO).\n",
    "* La fonction _**itDistance**_ : qui retourne la distance totale de l’itinéraire de la classe. Il s'agit de la distance lotale à parcourir en passant par tous les points dans l'ordre. N'oubliez pas de rajouter la distance permettant de retourner au point de départ correspondant au 1er élément de la liste.\n",
    "* La fonction _**itFitnes**_ : qui retourne la valeur de fitness FO (si ce n'est pas encore fait) càd le critère à maximiser. Il s'agit tout simplement de l'inverse de _**itDistance**_ puisque plus la distance est faible, plus la FO est importante."
   ]
  },
  {
   "cell_type": "markdown",
   "id": "df3d605b",
   "metadata": {
    "id": "17911b6b-a6c9-450e-8811-54effcb61802",
    "papermill": {
     "duration": 0.018069,
     "end_time": "2025-03-18T12:19:07.112768",
     "exception": false,
     "start_time": "2025-03-18T12:19:07.094699",
     "status": "completed"
    },
    "tags": []
   },
   "source": [
    "**<span style=\"color:red\">\n",
    "SOLUTION\n",
    "</span>**"
   ]
  },
  {
   "cell_type": "code",
   "execution_count": 6,
   "id": "b3928535",
   "metadata": {
    "execution": {
     "iopub.execute_input": "2025-03-18T12:19:07.151233Z",
     "iopub.status.busy": "2025-03-18T12:19:07.150830Z",
     "iopub.status.idle": "2025-03-18T12:19:07.157812Z",
     "shell.execute_reply": "2025-03-18T12:19:07.156551Z"
    },
    "id": "a07ce9f9-e846-4dd5-b875-45f9f33d3790",
    "outputId": "226b1d74-c486-4f4e-a654-f118d2cdb95d",
    "papermill": {
     "duration": 0.028271,
     "end_time": "2025-03-18T12:19:07.159653",
     "exception": false,
     "start_time": "2025-03-18T12:19:07.131382",
     "status": "completed"
    },
    "tags": []
   },
   "outputs": [
    {
     "name": "stdout",
     "output_type": "stream",
     "text": [
      "0.018447162026426146\n"
     ]
    }
   ],
   "source": [
    "class Fitness:\n",
    "    def __init__(self,it):\n",
    "        self.it = it\n",
    "        self.distance = 0\n",
    "        self.fitness = 0.0\n",
    "\n",
    "    def itDistance(self):\n",
    "        it = self.it\n",
    "        for k in range(len(it)-1):\n",
    "            depart = it[k]\n",
    "            fin = it[k+1]\n",
    "            self.distance += depart.dist(fin)\n",
    "        premier = it[0]\n",
    "        dernier = it[-1]\n",
    "        self.distance += premier.dist(dernier)\n",
    "        return self.distance\n",
    "\n",
    "    def itFitness(self):\n",
    "        return 1/(self.itDistance())\n",
    "\n",
    "fit = Fitness(pointsL)\n",
    "print(fit.itFitness())\n",
    "\n",
    "\n"
   ]
  },
  {
   "cell_type": "markdown",
   "id": "7f784e64",
   "metadata": {
    "id": "3cb9d65e-4ce7-4ab3-9f62-0b4325d2a596",
    "papermill": {
     "duration": 0.018523,
     "end_time": "2025-03-18T12:19:07.197445",
     "exception": false,
     "start_time": "2025-03-18T12:19:07.178922",
     "status": "completed"
    },
    "tags": []
   },
   "source": [
    "7. Calculez et affichez la distance ainsi que la valeur de fitness d'un itinéraire créé précédemment (question n°4)."
   ]
  },
  {
   "cell_type": "markdown",
   "id": "6737a2b3",
   "metadata": {
    "id": "d0fa87f3-6b05-4119-85c1-d00808b16f63",
    "papermill": {
     "duration": 0.019659,
     "end_time": "2025-03-18T12:19:07.235976",
     "exception": false,
     "start_time": "2025-03-18T12:19:07.216317",
     "status": "completed"
    },
    "tags": []
   },
   "source": [
    "**<span style=\"color:red\">\n",
    "SOLUTION\n",
    "</span>**"
   ]
  },
  {
   "cell_type": "code",
   "execution_count": 7,
   "id": "043e1d05",
   "metadata": {
    "execution": {
     "iopub.execute_input": "2025-03-18T12:19:07.274598Z",
     "iopub.status.busy": "2025-03-18T12:19:07.274261Z",
     "iopub.status.idle": "2025-03-18T12:19:07.278666Z",
     "shell.execute_reply": "2025-03-18T12:19:07.277632Z"
    },
    "id": "5a5226ef-a4a0-4bf3-b4e3-b28f5b3a0211",
    "outputId": "888e8794-f9aa-4c23-8324-a7ad27989228",
    "papermill": {
     "duration": 0.02564,
     "end_time": "2025-03-18T12:19:07.280348",
     "exception": false,
     "start_time": "2025-03-18T12:19:07.254708",
     "status": "completed"
    },
    "tags": []
   },
   "outputs": [
    {
     "name": "stdout",
     "output_type": "stream",
     "text": [
      "0.018447162026426146\n"
     ]
    }
   ],
   "source": [
    "fit = Fitness(pointsL)\n",
    "print(fit.itFitness())"
   ]
  },
  {
   "cell_type": "markdown",
   "id": "9f8db94c",
   "metadata": {
    "id": "103a4c19-7d1a-4d99-bed3-19685b1f673c",
    "papermill": {
     "duration": 0.019671,
     "end_time": "2025-03-18T12:19:07.320089",
     "exception": false,
     "start_time": "2025-03-18T12:19:07.300418",
     "status": "completed"
    },
    "tags": []
   },
   "source": [
    "8. Affichez les valeurs de fitness de tous les chromosomes d'une population créée précédemment (question n° 5)."
   ]
  },
  {
   "cell_type": "markdown",
   "id": "f8d2c33a",
   "metadata": {
    "id": "d4066566-e9f0-4890-ab86-a4a077cba065",
    "papermill": {
     "duration": 0.018614,
     "end_time": "2025-03-18T12:19:07.358692",
     "exception": false,
     "start_time": "2025-03-18T12:19:07.340078",
     "status": "completed"
    },
    "tags": []
   },
   "source": [
    "**<span style=\"color:red\">\n",
    "SOLUTION\n",
    "</span>**"
   ]
  },
  {
   "cell_type": "code",
   "execution_count": 8,
   "id": "5d67f639",
   "metadata": {
    "execution": {
     "iopub.execute_input": "2025-03-18T12:19:07.397313Z",
     "iopub.status.busy": "2025-03-18T12:19:07.396876Z",
     "iopub.status.idle": "2025-03-18T12:19:07.404188Z",
     "shell.execute_reply": "2025-03-18T12:19:07.402682Z"
    },
    "id": "17a6cf81-015c-49d0-bad5-a2357a3c6939",
    "outputId": "f06e7fd8-7058-4cef-917a-9dbe6e4a354d",
    "papermill": {
     "duration": 0.028652,
     "end_time": "2025-03-18T12:19:07.405962",
     "exception": false,
     "start_time": "2025-03-18T12:19:07.377310",
     "status": "completed"
    },
    "tags": []
   },
   "outputs": [
    {
     "name": "stdout",
     "output_type": "stream",
     "text": [
      "0.017416930302666264\n",
      "0.016216191342145327\n",
      "0.01703779878756012\n",
      "0.018670706641592063\n",
      "0.016206936752453733\n",
      "0.015766953979699124\n",
      "0.021319319474995123\n",
      "0.015994799455831498\n",
      "0.015694502653333286\n",
      "0.017818816276890914\n"
     ]
    }
   ],
   "source": [
    "popSize = 10\n",
    "L_chromosomes = initialPopulation(popSize,pointsL)\n",
    "for chromosome in L_chromosomes:\n",
    "    fit = Fitness(chromosome)\n",
    "    print(fit.itFitness())\n"
   ]
  },
  {
   "cell_type": "markdown",
   "id": "71ed1ccb",
   "metadata": {
    "id": "7982dbe0-bd0a-4579-9538-48f51ad2d07c",
    "papermill": {
     "duration": 0.018922,
     "end_time": "2025-03-18T12:19:07.443995",
     "exception": false,
     "start_time": "2025-03-18T12:19:07.425073",
     "status": "completed"
    },
    "tags": []
   },
   "source": [
    "9. Maintenant, nous allons créer une fonction rankIts(population) qui renvoie une liste triée de tuples (iDIt, fitness) d'une population d'itinéraires (une liste d'itinéraires) selon la valeur de fitness décroissante.\n",
    "\\\n",
    "iDIt est l'index de l'itinéraire dans la population (le 1er d'indice 0, le 2ème d'indice 1 etc.).\n",
    "\\\n",
    "Une solution possible est de créer un dictionnaire (clé->id et valeur->fitness), la fonction _**item**_ d'un dictionnaire renvoie la liste de tuples (clé, valeur). Nous pouvons utiliser la fonction **sorted** de Python comme suit :\n",
    "**sorted(fitnessResults.items(), key = operator.itemgetter(1), reverse = True)**\n",
    "avec :\n",
    "* fitnessResults : votre dictionnaire avec comme clés : les iD des itinéraires et comme valeurs : les fitness\n",
    "* key = operator.itemgetter(1) : correspond au critère de tri, il s'agit ici des éléments d'indice 1 du tuple (clé, valeur) et donc ça correspond à la valeur du fitness. N'oublions pas d'importer le module _**operator**_"
   ]
  },
  {
   "cell_type": "markdown",
   "id": "c5bc17fe",
   "metadata": {
    "id": "8200a1f5-6b57-405a-b44f-d49002f70978",
    "papermill": {
     "duration": 0.018736,
     "end_time": "2025-03-18T12:19:07.481911",
     "exception": false,
     "start_time": "2025-03-18T12:19:07.463175",
     "status": "completed"
    },
    "tags": []
   },
   "source": [
    "**<span style=\"color:red\">\n",
    "La fonction rankIts(population)\n",
    "</span>**"
   ]
  },
  {
   "cell_type": "code",
   "execution_count": 9,
   "id": "1217d199",
   "metadata": {
    "execution": {
     "iopub.execute_input": "2025-03-18T12:19:07.522183Z",
     "iopub.status.busy": "2025-03-18T12:19:07.521744Z",
     "iopub.status.idle": "2025-03-18T12:19:07.529376Z",
     "shell.execute_reply": "2025-03-18T12:19:07.527996Z"
    },
    "id": "abd306e7-a0ac-4c6d-b03b-50ef7a425fa1",
    "outputId": "ab543763-eba2-4743-b962-b0cdd67c5f8a",
    "papermill": {
     "duration": 0.029801,
     "end_time": "2025-03-18T12:19:07.531151",
     "exception": false,
     "start_time": "2025-03-18T12:19:07.501350",
     "status": "completed"
    },
    "tags": []
   },
   "outputs": [
    {
     "name": "stdout",
     "output_type": "stream",
     "text": [
      "[(0, 0.020919061375235526), (1, 0.020126431779052177), (8, 0.019508433958386296), (4, 0.018729515365244327), (3, 0.01798554107187277), (6, 0.017617687106875182), (2, 0.016698015028708053), (9, 0.0165482147695151), (7, 0.01653164500114834), (5, 0.016185726612886284)]\n",
      "0.020919061375235526\n"
     ]
    }
   ],
   "source": [
    "import operator\n",
    "def rankIts(population):\n",
    "    fitnessResults = {}\n",
    "    for i in range(0,len(population)):\n",
    "        fitnessResults[i] = Fitness(population[i]).itFitness()\n",
    "    return sorted(fitnessResults.items(), key = operator.itemgetter(1), reverse = True)\n",
    "\n",
    "popRanked=rankIts(myPop2)\n",
    "print(popRanked)\n",
    "print(popRanked[0][1])"
   ]
  },
  {
   "cell_type": "markdown",
   "id": "a119517d",
   "metadata": {
    "id": "5c80ba79-931e-498d-967a-446c8add399f",
    "papermill": {
     "duration": 0.018825,
     "end_time": "2025-03-18T12:19:07.569801",
     "exception": false,
     "start_time": "2025-03-18T12:19:07.550976",
     "status": "completed"
    },
    "tags": []
   },
   "source": [
    "## Sélection des parents de la prochaine génération\n",
    "Plusieurs techniques sont possibles (vous pouvez créer la vôtre), ci-dessous 2 techniques connues :\n",
    "* “roulette wheel selection” (sélection proportionnelle à la valeur du fitness) : la sélection d'un individu est proportionnelle à sa valeur de fitness, la probabilité de sélection est pondérée par la valeur de fitness\n",
    "* l'élitisme : les individus les plus performants de la population sont automatiquement transférés à la génération suivante, ce qui garantit la persistance des individus leluss p fo.. :\n"
   ]
  },
  {
   "cell_type": "markdown",
   "id": "47675ef4",
   "metadata": {
    "id": "50c87d9b-3fb5-4d00-915b-80b519389d5f",
    "papermill": {
     "duration": 0.019067,
     "end_time": "2025-03-18T12:19:07.607982",
     "exception": false,
     "start_time": "2025-03-18T12:19:07.588915",
     "status": "completed"
    },
    "tags": []
   },
   "source": [
    "Dans la littérature, des études scientifiques ont démontré que l'élitisme n'est pas forcément le meilleur mode de sélection et que le fait de donner la chance à certains individus \"faibles\" permet de diversifier la population pour la rendre encore plus forte.\n",
    "Nous choisissons ici de combiner les 2 techniques présentées ci-dessus :"
   ]
  },
  {
   "cell_type": "markdown",
   "id": "aca4794a",
   "metadata": {
    "id": "6aa37fea-c941-4fd2-8f2c-7c0e83812d04",
    "papermill": {
     "duration": 0.019969,
     "end_time": "2025-03-18T12:19:07.648009",
     "exception": false,
     "start_time": "2025-03-18T12:19:07.628040",
     "status": "completed"
    },
    "tags": []
   },
   "source": [
    "10. Créez d'abord une DataFrame pandas ayant comme données le résultat de la fonction **rankIts(population)** sous forme d'une matrice numpy en intitulant les 2 colonnes par ordre :\"Index\" et \"Fitness\""
   ]
  },
  {
   "cell_type": "markdown",
   "id": "daa81dba",
   "metadata": {
    "id": "5a5162f1-51d5-4a09-a4f6-2587cdad5f17",
    "papermill": {
     "duration": 0.018572,
     "end_time": "2025-03-18T12:19:07.685757",
     "exception": false,
     "start_time": "2025-03-18T12:19:07.667185",
     "status": "completed"
    },
    "tags": []
   },
   "source": [
    "**<span style=\"color:red\">\n",
    "SOLUTION\n",
    "</span>**"
   ]
  },
  {
   "cell_type": "code",
   "execution_count": 10,
   "id": "e8ebd5a5",
   "metadata": {
    "execution": {
     "iopub.execute_input": "2025-03-18T12:19:07.728805Z",
     "iopub.status.busy": "2025-03-18T12:19:07.728475Z",
     "iopub.status.idle": "2025-03-18T12:19:08.700221Z",
     "shell.execute_reply": "2025-03-18T12:19:08.699043Z"
    },
    "id": "c3fc8abe-9a0f-4880-bc1b-3bd35ce71fcd",
    "outputId": "1b377369-4d0c-43b4-89c6-dcc48b8c22b2",
    "papermill": {
     "duration": 0.996103,
     "end_time": "2025-03-18T12:19:08.702121",
     "exception": false,
     "start_time": "2025-03-18T12:19:07.706018",
     "status": "completed"
    },
    "tags": []
   },
   "outputs": [
    {
     "data": {
      "text/html": [
       "<div>\n",
       "<style scoped>\n",
       "    .dataframe tbody tr th:only-of-type {\n",
       "        vertical-align: middle;\n",
       "    }\n",
       "\n",
       "    .dataframe tbody tr th {\n",
       "        vertical-align: top;\n",
       "    }\n",
       "\n",
       "    .dataframe thead th {\n",
       "        text-align: right;\n",
       "    }\n",
       "</style>\n",
       "<table border=\"1\" class=\"dataframe\">\n",
       "  <thead>\n",
       "    <tr style=\"text-align: right;\">\n",
       "      <th></th>\n",
       "      <th>Index</th>\n",
       "      <th>Fitness</th>\n",
       "    </tr>\n",
       "  </thead>\n",
       "  <tbody>\n",
       "    <tr>\n",
       "      <th>0</th>\n",
       "      <td>1</td>\n",
       "      <td>0.019218</td>\n",
       "    </tr>\n",
       "    <tr>\n",
       "      <th>1</th>\n",
       "      <td>5</td>\n",
       "      <td>0.019050</td>\n",
       "    </tr>\n",
       "    <tr>\n",
       "      <th>2</th>\n",
       "      <td>4</td>\n",
       "      <td>0.018715</td>\n",
       "    </tr>\n",
       "    <tr>\n",
       "      <th>3</th>\n",
       "      <td>8</td>\n",
       "      <td>0.018205</td>\n",
       "    </tr>\n",
       "    <tr>\n",
       "      <th>4</th>\n",
       "      <td>3</td>\n",
       "      <td>0.017865</td>\n",
       "    </tr>\n",
       "  </tbody>\n",
       "</table>\n",
       "</div>"
      ],
      "text/plain": [
       "   Index   Fitness\n",
       "0      1  0.019218\n",
       "1      5  0.019050\n",
       "2      4  0.018715\n",
       "3      8  0.018205\n",
       "4      3  0.017865"
      ]
     },
     "execution_count": 10,
     "metadata": {},
     "output_type": "execute_result"
    }
   ],
   "source": [
    "import pandas as pd\n",
    "pop=rankIts(myPop1)\n",
    "df = pd.DataFrame([(pop[k][0], pop[k][1]) for k in range(len(pop))], columns=[\"Index\", \"Fitness\"])\n",
    "df.head()"
   ]
  },
  {
   "cell_type": "markdown",
   "id": "aa30cbff",
   "metadata": {
    "id": "21619350-ca99-41f4-a66e-9843867c128f",
    "papermill": {
     "duration": 0.019537,
     "end_time": "2025-03-18T12:19:08.741942",
     "exception": false,
     "start_time": "2025-03-18T12:19:08.722405",
     "status": "completed"
    },
    "tags": []
   },
   "source": [
    "11. Ajoutez à cette DataFrame une colonne 'cum_sum' permettant de calculer la somme cumulative de la colonne 'Fitness' (voir la fonction cumsum() de Series)."
   ]
  },
  {
   "cell_type": "markdown",
   "id": "ead110d3",
   "metadata": {
    "id": "124b2d64-9188-4668-8035-2cb635216462",
    "papermill": {
     "duration": 0.019434,
     "end_time": "2025-03-18T12:19:08.780607",
     "exception": false,
     "start_time": "2025-03-18T12:19:08.761173",
     "status": "completed"
    },
    "tags": []
   },
   "source": [
    "**<span style=\"color:red\">\n",
    "SOLUTION\n",
    "</span>**"
   ]
  },
  {
   "cell_type": "code",
   "execution_count": 11,
   "id": "0949f5d7",
   "metadata": {
    "execution": {
     "iopub.execute_input": "2025-03-18T12:19:08.820738Z",
     "iopub.status.busy": "2025-03-18T12:19:08.820252Z",
     "iopub.status.idle": "2025-03-18T12:19:08.831092Z",
     "shell.execute_reply": "2025-03-18T12:19:08.829898Z"
    },
    "id": "951a099e-6ca6-4e24-ac8e-3300274cc6e2",
    "outputId": "ec83f6ab-22d9-4bb1-c10e-12576b6d3635",
    "papermill": {
     "duration": 0.032613,
     "end_time": "2025-03-18T12:19:08.832708",
     "exception": false,
     "start_time": "2025-03-18T12:19:08.800095",
     "status": "completed"
    },
    "tags": []
   },
   "outputs": [
    {
     "data": {
      "text/html": [
       "<div>\n",
       "<style scoped>\n",
       "    .dataframe tbody tr th:only-of-type {\n",
       "        vertical-align: middle;\n",
       "    }\n",
       "\n",
       "    .dataframe tbody tr th {\n",
       "        vertical-align: top;\n",
       "    }\n",
       "\n",
       "    .dataframe thead th {\n",
       "        text-align: right;\n",
       "    }\n",
       "</style>\n",
       "<table border=\"1\" class=\"dataframe\">\n",
       "  <thead>\n",
       "    <tr style=\"text-align: right;\">\n",
       "      <th></th>\n",
       "      <th>Index</th>\n",
       "      <th>Fitness</th>\n",
       "      <th>cum_sum</th>\n",
       "    </tr>\n",
       "  </thead>\n",
       "  <tbody>\n",
       "    <tr>\n",
       "      <th>0</th>\n",
       "      <td>1</td>\n",
       "      <td>0.019218</td>\n",
       "      <td>0.019218</td>\n",
       "    </tr>\n",
       "    <tr>\n",
       "      <th>1</th>\n",
       "      <td>5</td>\n",
       "      <td>0.019050</td>\n",
       "      <td>0.038268</td>\n",
       "    </tr>\n",
       "    <tr>\n",
       "      <th>2</th>\n",
       "      <td>4</td>\n",
       "      <td>0.018715</td>\n",
       "      <td>0.056983</td>\n",
       "    </tr>\n",
       "    <tr>\n",
       "      <th>3</th>\n",
       "      <td>8</td>\n",
       "      <td>0.018205</td>\n",
       "      <td>0.075188</td>\n",
       "    </tr>\n",
       "    <tr>\n",
       "      <th>4</th>\n",
       "      <td>3</td>\n",
       "      <td>0.017865</td>\n",
       "      <td>0.093053</td>\n",
       "    </tr>\n",
       "  </tbody>\n",
       "</table>\n",
       "</div>"
      ],
      "text/plain": [
       "   Index   Fitness   cum_sum\n",
       "0      1  0.019218  0.019218\n",
       "1      5  0.019050  0.038268\n",
       "2      4  0.018715  0.056983\n",
       "3      8  0.018205  0.075188\n",
       "4      3  0.017865  0.093053"
      ]
     },
     "execution_count": 11,
     "metadata": {},
     "output_type": "execute_result"
    }
   ],
   "source": [
    "df[\"cum_sum\"] = df[\"Fitness\"].cumsum()\n",
    "df.head()"
   ]
  },
  {
   "cell_type": "markdown",
   "id": "79ff4e05",
   "metadata": {
    "id": "60683433-1e5d-4874-9198-ec977ddaec35",
    "papermill": {
     "duration": 0.018963,
     "end_time": "2025-03-18T12:19:08.872570",
     "exception": false,
     "start_time": "2025-03-18T12:19:08.853607",
     "status": "completed"
    },
    "tags": []
   },
   "source": [
    "12. Ajoutez à cette même DataFrame une colonne 'cum_perc' corresppondant au pourcentage cumulatif de la valeur de fitness, calculé comme suit : cum_sum*100/somme(Fitness):"
   ]
  },
  {
   "cell_type": "markdown",
   "id": "48ac6964",
   "metadata": {
    "id": "f01da5bb-0f88-457a-8062-cdf76211d24c",
    "papermill": {
     "duration": 0.018821,
     "end_time": "2025-03-18T12:19:08.910627",
     "exception": false,
     "start_time": "2025-03-18T12:19:08.891806",
     "status": "completed"
    },
    "tags": []
   },
   "source": [
    "**<span style=\"color:red\">\n",
    "SOLUTION\n",
    "</span>**"
   ]
  },
  {
   "cell_type": "code",
   "execution_count": 12,
   "id": "5b8469ed",
   "metadata": {
    "execution": {
     "iopub.execute_input": "2025-03-18T12:19:08.950800Z",
     "iopub.status.busy": "2025-03-18T12:19:08.950401Z",
     "iopub.status.idle": "2025-03-18T12:19:08.962411Z",
     "shell.execute_reply": "2025-03-18T12:19:08.961360Z"
    },
    "id": "db22c561-1194-4b70-aa84-6e86873f2861",
    "outputId": "cebb8dc6-319b-4e78-83b8-5935ecec35b3",
    "papermill": {
     "duration": 0.03389,
     "end_time": "2025-03-18T12:19:08.964275",
     "exception": false,
     "start_time": "2025-03-18T12:19:08.930385",
     "status": "completed"
    },
    "tags": []
   },
   "outputs": [
    {
     "data": {
      "text/html": [
       "<div>\n",
       "<style scoped>\n",
       "    .dataframe tbody tr th:only-of-type {\n",
       "        vertical-align: middle;\n",
       "    }\n",
       "\n",
       "    .dataframe tbody tr th {\n",
       "        vertical-align: top;\n",
       "    }\n",
       "\n",
       "    .dataframe thead th {\n",
       "        text-align: right;\n",
       "    }\n",
       "</style>\n",
       "<table border=\"1\" class=\"dataframe\">\n",
       "  <thead>\n",
       "    <tr style=\"text-align: right;\">\n",
       "      <th></th>\n",
       "      <th>Index</th>\n",
       "      <th>Fitness</th>\n",
       "      <th>cum_sum</th>\n",
       "      <th>cum_perc</th>\n",
       "    </tr>\n",
       "  </thead>\n",
       "  <tbody>\n",
       "    <tr>\n",
       "      <th>0</th>\n",
       "      <td>1</td>\n",
       "      <td>0.019218</td>\n",
       "      <td>0.019218</td>\n",
       "      <td>11.288551</td>\n",
       "    </tr>\n",
       "    <tr>\n",
       "      <th>1</th>\n",
       "      <td>5</td>\n",
       "      <td>0.019050</td>\n",
       "      <td>0.038268</td>\n",
       "      <td>22.478195</td>\n",
       "    </tr>\n",
       "    <tr>\n",
       "      <th>2</th>\n",
       "      <td>4</td>\n",
       "      <td>0.018715</td>\n",
       "      <td>0.056983</td>\n",
       "      <td>33.471149</td>\n",
       "    </tr>\n",
       "    <tr>\n",
       "      <th>3</th>\n",
       "      <td>8</td>\n",
       "      <td>0.018205</td>\n",
       "      <td>0.075188</td>\n",
       "      <td>44.164821</td>\n",
       "    </tr>\n",
       "    <tr>\n",
       "      <th>4</th>\n",
       "      <td>3</td>\n",
       "      <td>0.017865</td>\n",
       "      <td>0.093053</td>\n",
       "      <td>54.658719</td>\n",
       "    </tr>\n",
       "    <tr>\n",
       "      <th>5</th>\n",
       "      <td>2</td>\n",
       "      <td>0.016693</td>\n",
       "      <td>0.109747</td>\n",
       "      <td>64.464258</td>\n",
       "    </tr>\n",
       "    <tr>\n",
       "      <th>6</th>\n",
       "      <td>7</td>\n",
       "      <td>0.015699</td>\n",
       "      <td>0.125446</td>\n",
       "      <td>73.685977</td>\n",
       "    </tr>\n",
       "    <tr>\n",
       "      <th>7</th>\n",
       "      <td>6</td>\n",
       "      <td>0.015568</td>\n",
       "      <td>0.141014</td>\n",
       "      <td>82.830295</td>\n",
       "    </tr>\n",
       "    <tr>\n",
       "      <th>8</th>\n",
       "      <td>9</td>\n",
       "      <td>0.015046</td>\n",
       "      <td>0.156060</td>\n",
       "      <td>91.668436</td>\n",
       "    </tr>\n",
       "    <tr>\n",
       "      <th>9</th>\n",
       "      <td>0</td>\n",
       "      <td>0.014184</td>\n",
       "      <td>0.170244</td>\n",
       "      <td>100.000000</td>\n",
       "    </tr>\n",
       "  </tbody>\n",
       "</table>\n",
       "</div>"
      ],
      "text/plain": [
       "   Index   Fitness   cum_sum    cum_perc\n",
       "0      1  0.019218  0.019218   11.288551\n",
       "1      5  0.019050  0.038268   22.478195\n",
       "2      4  0.018715  0.056983   33.471149\n",
       "3      8  0.018205  0.075188   44.164821\n",
       "4      3  0.017865  0.093053   54.658719\n",
       "5      2  0.016693  0.109747   64.464258\n",
       "6      7  0.015699  0.125446   73.685977\n",
       "7      6  0.015568  0.141014   82.830295\n",
       "8      9  0.015046  0.156060   91.668436\n",
       "9      0  0.014184  0.170244  100.000000"
      ]
     },
     "execution_count": 12,
     "metadata": {},
     "output_type": "execute_result"
    }
   ],
   "source": [
    "df[\"cum_perc\"] = df[\"cum_sum\"]*100/(df[\"Fitness\"]).sum()\n",
    "df.head(10)"
   ]
  },
  {
   "cell_type": "code",
   "execution_count": 13,
   "id": "1f25c6fc",
   "metadata": {
    "execution": {
     "iopub.execute_input": "2025-03-18T12:19:09.004564Z",
     "iopub.status.busy": "2025-03-18T12:19:09.004208Z",
     "iopub.status.idle": "2025-03-18T12:19:09.017434Z",
     "shell.execute_reply": "2025-03-18T12:19:09.016336Z"
    },
    "id": "e4a4e96b-7d74-4996-8318-ef9a5ed35a5b",
    "outputId": "133d124e-328c-4000-cdf3-5fa1d098e7e2",
    "papermill": {
     "duration": 0.035596,
     "end_time": "2025-03-18T12:19:09.019377",
     "exception": false,
     "start_time": "2025-03-18T12:19:08.983781",
     "status": "completed"
    },
    "tags": []
   },
   "outputs": [
    {
     "data": {
      "text/html": [
       "<div>\n",
       "<style scoped>\n",
       "    .dataframe tbody tr th:only-of-type {\n",
       "        vertical-align: middle;\n",
       "    }\n",
       "\n",
       "    .dataframe tbody tr th {\n",
       "        vertical-align: top;\n",
       "    }\n",
       "\n",
       "    .dataframe thead th {\n",
       "        text-align: right;\n",
       "    }\n",
       "</style>\n",
       "<table border=\"1\" class=\"dataframe\">\n",
       "  <thead>\n",
       "    <tr style=\"text-align: right;\">\n",
       "      <th></th>\n",
       "      <th>Index</th>\n",
       "      <th>Fitness</th>\n",
       "      <th>cum_sum</th>\n",
       "      <th>cum_perc</th>\n",
       "    </tr>\n",
       "  </thead>\n",
       "  <tbody>\n",
       "    <tr>\n",
       "      <th>0</th>\n",
       "      <td>0</td>\n",
       "      <td>0.020919</td>\n",
       "      <td>0.020919</td>\n",
       "      <td>11.567061</td>\n",
       "    </tr>\n",
       "    <tr>\n",
       "      <th>1</th>\n",
       "      <td>1</td>\n",
       "      <td>0.020126</td>\n",
       "      <td>0.041045</td>\n",
       "      <td>22.695843</td>\n",
       "    </tr>\n",
       "    <tr>\n",
       "      <th>2</th>\n",
       "      <td>8</td>\n",
       "      <td>0.019508</td>\n",
       "      <td>0.060554</td>\n",
       "      <td>33.482906</td>\n",
       "    </tr>\n",
       "    <tr>\n",
       "      <th>3</th>\n",
       "      <td>4</td>\n",
       "      <td>0.018730</td>\n",
       "      <td>0.079283</td>\n",
       "      <td>43.839272</td>\n",
       "    </tr>\n",
       "    <tr>\n",
       "      <th>4</th>\n",
       "      <td>3</td>\n",
       "      <td>0.017986</td>\n",
       "      <td>0.097269</td>\n",
       "      <td>53.784262</td>\n",
       "    </tr>\n",
       "  </tbody>\n",
       "</table>\n",
       "</div>"
      ],
      "text/plain": [
       "   Index   Fitness   cum_sum   cum_perc\n",
       "0      0  0.020919  0.020919  11.567061\n",
       "1      1  0.020126  0.041045  22.695843\n",
       "2      8  0.019508  0.060554  33.482906\n",
       "3      4  0.018730  0.079283  43.839272\n",
       "4      3  0.017986  0.097269  53.784262"
      ]
     },
     "execution_count": 13,
     "metadata": {},
     "output_type": "execute_result"
    }
   ],
   "source": [
    "def to_df(PopRanked):\n",
    "    df = pd.DataFrame([(PopRanked[k][0], PopRanked[k][1]) for k in range(len(PopRanked))], columns=[\"Index\", \"Fitness\"])\n",
    "    df[\"cum_sum\"] = df[\"Fitness\"].cumsum()\n",
    "    df[\"cum_perc\"] = df[\"cum_sum\"]*100/(df[\"Fitness\"]).sum()\n",
    "    return df\n",
    "df = to_df(popRanked)\n",
    "df.head()"
   ]
  },
  {
   "cell_type": "markdown",
   "id": "6027621d",
   "metadata": {
    "id": "51e36203-2d5a-48bd-866a-f03425c0ddf8",
    "papermill": {
     "duration": 0.019671,
     "end_time": "2025-03-18T12:19:09.059440",
     "exception": false,
     "start_time": "2025-03-18T12:19:09.039769",
     "status": "completed"
    },
    "tags": []
   },
   "source": [
    "13. Créez la liste **selectionResults** qui contient les index des des n premiers individus (les n meilleurs) de **popRanked** . Testez avec un n < taille de **popRanked**"
   ]
  },
  {
   "cell_type": "markdown",
   "id": "97a65e97",
   "metadata": {
    "id": "04467352-6136-4404-a5f0-2270cc274cf9",
    "papermill": {
     "duration": 0.019721,
     "end_time": "2025-03-18T12:19:09.099872",
     "exception": false,
     "start_time": "2025-03-18T12:19:09.080151",
     "status": "completed"
    },
    "tags": []
   },
   "source": [
    "**<span style=\"color:red\">\n",
    "SOLUTION\n",
    "</span>**"
   ]
  },
  {
   "cell_type": "code",
   "execution_count": 14,
   "id": "b41fa640",
   "metadata": {
    "execution": {
     "iopub.execute_input": "2025-03-18T12:19:09.142548Z",
     "iopub.status.busy": "2025-03-18T12:19:09.142175Z",
     "iopub.status.idle": "2025-03-18T12:19:09.147482Z",
     "shell.execute_reply": "2025-03-18T12:19:09.146379Z"
    },
    "id": "b156b561-65c0-47ac-9d0d-cb150d96c74f",
    "outputId": "eda922b8-9070-4c58-f654-f69071f33a49",
    "papermill": {
     "duration": 0.028859,
     "end_time": "2025-03-18T12:19:09.149291",
     "exception": false,
     "start_time": "2025-03-18T12:19:09.120432",
     "status": "completed"
    },
    "tags": []
   },
   "outputs": [
    {
     "name": "stdout",
     "output_type": "stream",
     "text": [
      "[0, 1, 8, 4]\n"
     ]
    }
   ],
   "source": [
    "def selection_res(n,popRanked):\n",
    "    res = []\n",
    "    for k in range(n):\n",
    "        res.append(popRanked[k][0])\n",
    "    return res\n",
    "selectionResults = selection_res(4,popRanked)\n",
    "print(selectionResults)\n",
    "\n"
   ]
  },
  {
   "cell_type": "markdown",
   "id": "d0429c97",
   "metadata": {
    "id": "d8eec6f9-d208-48ed-8eb5-a84832253e9d",
    "papermill": {
     "duration": 0.019942,
     "end_time": "2025-03-18T12:19:09.189419",
     "exception": false,
     "start_time": "2025-03-18T12:19:09.169477",
     "status": "completed"
    },
    "tags": []
   },
   "source": [
    "14. Nous allons maintenant compléter la liste **selectionResults** de 0 jusqu'à **popRanked** - n de la manière suivante :\n",
    "* Pour chaque i de 0 jusqu'à (**taille(popRanked)** - n) :\n",
    "    * tirer au hasard une valeur entre 0 et 100\n",
    "    * répéter j de 0 à len(popRanked) :\n",
    "        * Si la valeur tirée au hasard <= à la ième (à partir de 0) valeur cumulative cum_perc de la dataFrame créée précédemment ALORS le ième index dans **popRanked** est rajouté à **selectionResults** SINON passer au tour suivant (j+1)"
   ]
  },
  {
   "cell_type": "markdown",
   "id": "c298ff86",
   "metadata": {
    "id": "125d3379-7d05-409f-b3b9-af8f30e602bc",
    "papermill": {
     "duration": 0.019519,
     "end_time": "2025-03-18T12:19:09.229456",
     "exception": false,
     "start_time": "2025-03-18T12:19:09.209937",
     "status": "completed"
    },
    "tags": []
   },
   "source": [
    "**<span style=\"color:red\">\n",
    "Finalisons l'étape de sélection\n",
    "</span>**"
   ]
  },
  {
   "cell_type": "code",
   "execution_count": 15,
   "id": "49168223",
   "metadata": {
    "execution": {
     "iopub.execute_input": "2025-03-18T12:19:09.272560Z",
     "iopub.status.busy": "2025-03-18T12:19:09.272211Z",
     "iopub.status.idle": "2025-03-18T12:19:09.282354Z",
     "shell.execute_reply": "2025-03-18T12:19:09.281367Z"
    },
    "id": "8a30358e-d30a-4525-b308-9616878b8746",
    "outputId": "087527e7-62bf-4e4a-983e-833424a09d68",
    "papermill": {
     "duration": 0.032652,
     "end_time": "2025-03-18T12:19:09.284293",
     "exception": false,
     "start_time": "2025-03-18T12:19:09.251641",
     "status": "completed"
    },
    "tags": []
   },
   "outputs": [
    {
     "data": {
      "text/plain": [
       "[0, 1, 8, 4, 0, 5, 6, 3, 1, 0]"
      ]
     },
     "execution_count": 15,
     "metadata": {},
     "output_type": "execute_result"
    }
   ],
   "source": [
    "df = to_df(popRanked)\n",
    "for i in range(len(popRanked) - 4):\n",
    "    pick = rd.randint(0,100)\n",
    "    for j in range(len(popRanked)):\n",
    "        if pick <= df[\"cum_perc\"].iloc[j]:\n",
    "            selectionResults.append(popRanked[j][0])\n",
    "            break\n",
    "selectionResults"
   ]
  },
  {
   "cell_type": "markdown",
   "id": "d0e1c50a",
   "metadata": {
    "id": "822ebdc0-daf1-4cd9-b361-38e862e1f369",
    "papermill": {
     "duration": 0.022318,
     "end_time": "2025-03-18T12:19:09.328261",
     "exception": false,
     "start_time": "2025-03-18T12:19:09.305943",
     "status": "completed"
    },
    "tags": []
   },
   "source": [
    "15. Créez et testez la fonction **selection(popRanked, eliteSize)** qui retourne la liste des index des individus pour la suite du processus : la phase de reproduction. Cette fonction permet de regrouper les actions des questions de 10 à 14 avec :\n",
    "* eliteSize : le nombre fixé des meilleurs éléments (les individus ayant les meilleurs valeurs de fitness).\n",
    "* popRanked : liste triée de tuples (iDIt, fitness) d'une population d'itinéraires (une liste d'itinéraires) selon la valeur fitness décroissante.\n"
   ]
  },
  {
   "cell_type": "markdown",
   "id": "23c7d357",
   "metadata": {
    "id": "30853615-8153-44fd-b519-8445a067eb2f",
    "papermill": {
     "duration": 0.019706,
     "end_time": "2025-03-18T12:19:09.368370",
     "exception": false,
     "start_time": "2025-03-18T12:19:09.348664",
     "status": "completed"
    },
    "tags": []
   },
   "source": [
    "**<span style=\"color:red\">\n",
    "SOLUTION\n",
    "</span>**"
   ]
  },
  {
   "cell_type": "code",
   "execution_count": 16,
   "id": "d98a0669",
   "metadata": {
    "execution": {
     "iopub.execute_input": "2025-03-18T12:19:09.410200Z",
     "iopub.status.busy": "2025-03-18T12:19:09.409810Z",
     "iopub.status.idle": "2025-03-18T12:19:09.420599Z",
     "shell.execute_reply": "2025-03-18T12:19:09.419264Z"
    },
    "id": "8da478e1-8648-4f9d-9765-b808e1e16d9a",
    "outputId": "d44892e2-904f-46f0-baa9-5b19e70b844f",
    "papermill": {
     "duration": 0.033462,
     "end_time": "2025-03-18T12:19:09.422349",
     "exception": false,
     "start_time": "2025-03-18T12:19:09.388887",
     "status": "completed"
    },
    "tags": []
   },
   "outputs": [
    {
     "name": "stdout",
     "output_type": "stream",
     "text": [
      "[0, 1, 2, 6, 8, 3, 2, 1, 6, 7]\n"
     ]
    }
   ],
   "source": [
    "import numpy as np\n",
    "import random\n",
    "import pandas as pnd\n",
    "def selection(popRanked, eliteSize):\n",
    "    # Crée une liste vide qui contiendra les résultats de la sélection\n",
    "    selectionResults = []\n",
    "\n",
    "    # Crée un DataFrame à partir de la population triée (popRanked) avec les colonnes \"Index\" et \"Fitness\"\n",
    "    df = pnd.DataFrame(np.array(popRanked), columns=[\"Index\",\"Fitness\"])\n",
    "\n",
    "    # Calcule la somme cumulée des fitness, ce qui est utilisé pour la roulette\n",
    "    df['cum_sum'] = df.Fitness.cumsum()\n",
    "\n",
    "    # Calcule le pourcentage cumulatif, ce qui permet de déterminer la probabilité de chaque individu d'être sélectionné\n",
    "    df['cum_perc'] = 100*df.cum_sum/df.Fitness.sum()\n",
    "\n",
    "    # Sélectionne les individus les mieux classés (élite) en les ajoutant directement à la liste de sélection\n",
    "    for i in range(eliteSize):\n",
    "        selectionResults.append(popRanked[i][0])\n",
    "\n",
    "    # Sélectionne les autres individus de manière aléatoire, pondérée par leur fitness\n",
    "    for i in range(len(popRanked) - eliteSize):\n",
    "        pick = 100*random.random()  # Tirage aléatoire pour choisir un individu\n",
    "        for i in range(len(popRanked)):  # Parcours de la population\n",
    "            # Si la valeur tirée est inférieure ou égale au pourcentage cumulé de l'individu, on le sélectionne\n",
    "            if pick <= df.iat[i,3]:  # La colonne 3 contient les pourcentages cumulés\n",
    "                selectionResults.append(popRanked[i][0])  # Ajoute l'individu sélectionné\n",
    "                break  # Sort de la boucle dès que l'individu est sélectionné\n",
    "\n",
    "    return selectionResults  # Retourne la liste des individus sélectionnés\n",
    "print(selection(popRanked, 2))"
   ]
  },
  {
   "cell_type": "markdown",
   "id": "e38702de",
   "metadata": {
    "id": "7f8afd30-6a6f-4758-ae2e-9d46800f89ac",
    "papermill": {
     "duration": 0.019923,
     "end_time": "2025-03-18T12:19:09.463310",
     "exception": false,
     "start_time": "2025-03-18T12:19:09.443387",
     "status": "completed"
    },
    "tags": []
   },
   "source": [
    "16. L'étape précédente a permis de générer la liste des index des individus sélectionnés pour la phase de reproduction. Il faut créer maintenant la liste de ces individus avec la nouvelle fonction **matingPool(population, selectionResults)** qu'il faut tester avec :\n",
    "* population : votre population d'itinéraires de départ\n",
    "* selectionResults : la liste des index des individues sélectionnés pour la reproducti.1.\n"
   ]
  },
  {
   "cell_type": "markdown",
   "id": "71fa4a21",
   "metadata": {
    "id": "6a488288-aedf-4620-b6be-e7ddeab7eda9",
    "papermill": {
     "duration": 0.019814,
     "end_time": "2025-03-18T12:19:09.502808",
     "exception": false,
     "start_time": "2025-03-18T12:19:09.482994",
     "status": "completed"
    },
    "tags": []
   },
   "source": [
    "**<span style=\"color:red\">\n",
    "SOLUTION\n",
    "</span>**"
   ]
  },
  {
   "cell_type": "code",
   "execution_count": 17,
   "id": "25fb9bca",
   "metadata": {
    "execution": {
     "iopub.execute_input": "2025-03-18T12:19:09.544404Z",
     "iopub.status.busy": "2025-03-18T12:19:09.543986Z",
     "iopub.status.idle": "2025-03-18T12:19:09.549215Z",
     "shell.execute_reply": "2025-03-18T12:19:09.548039Z"
    },
    "id": "c9590811-2da1-4513-8bd0-05337a39c555",
    "papermill": {
     "duration": 0.027689,
     "end_time": "2025-03-18T12:19:09.550950",
     "exception": false,
     "start_time": "2025-03-18T12:19:09.523261",
     "status": "completed"
    },
    "tags": []
   },
   "outputs": [],
   "source": [
    "def matingPool(population, selectionResults):\n",
    "    # Crée une liste vide qui contiendra les individus sélectionnés pour la reproduction\n",
    "    matingpool = []\n",
    "\n",
    "    # Parcours les indices des individus sélectionnés\n",
    "    for i in range(len(selectionResults)):\n",
    "        # Récupère l'indice de l'individu sélectionné dans la liste 'selectionResults'\n",
    "        index = selectionResults[i]\n",
    "\n",
    "        # Ajoute l'individu correspondant à cet indice dans la liste 'matingpool'\n",
    "        matingpool.append(population[index])\n",
    "\n",
    "    # Retourne la liste des individus sélectionnés pour la reproduction\n",
    "    return matingpool\n"
   ]
  },
  {
   "cell_type": "markdown",
   "id": "c270c6bd",
   "metadata": {
    "id": "ed779339-45ee-4006-b0fe-ec5371d7bf4c",
    "papermill": {
     "duration": 0.020229,
     "end_time": "2025-03-18T12:19:09.593536",
     "exception": false,
     "start_time": "2025-03-18T12:19:09.573307",
     "status": "completed"
    },
    "tags": []
   },
   "source": [
    "## Croisement et mutation\n",
    "A l'instar de la génétique humaine, les chromosomes parents passent par une étape de croisement pour donner les chromosomes enfants. Ces derniers peuvent muter.\n",
    "Un algorithme génétique est généralement paramétré avec une probabilité de croisement et une probabilité de mutation."
   ]
  },
  {
   "cell_type": "markdown",
   "id": "fb38d49d",
   "metadata": {
    "id": "7413f4f8-21d0-495f-9c10-805279614f38",
    "papermill": {
     "duration": 0.020836,
     "end_time": "2025-03-18T12:19:09.634154",
     "exception": false,
     "start_time": "2025-03-18T12:19:09.613318",
     "status": "completed"
    },
    "tags": []
   },
   "source": [
    "### Croisement"
   ]
  },
  {
   "cell_type": "markdown",
   "id": "1fa51f7d",
   "metadata": {
    "id": "9f358b2c-8cc0-468e-877d-141698875ada",
    "papermill": {
     "duration": 0.019875,
     "end_time": "2025-03-18T12:19:09.674024",
     "exception": false,
     "start_time": "2025-03-18T12:19:09.654149",
     "status": "completed"
    },
    "tags": []
   },
   "source": [
    "Plusieurs types d'opérateurs de croisement existent dans la littérature (vous pouvez créer le votre). Nous choisissons dans le cadre de ce TD l'opérateur de croisement à 2 points."
   ]
  },
  {
   "cell_type": "markdown",
   "id": "3cb6467c",
   "metadata": {
    "id": "dcab20db-f577-4289-8562-39174eb18f6e",
    "papermill": {
     "duration": 0.020282,
     "end_time": "2025-03-18T12:19:09.714393",
     "exception": false,
     "start_time": "2025-03-18T12:19:09.694111",
     "status": "completed"
    },
    "tags": []
   },
   "source": [
    "![Croisement](https://i0.wp.com/ledatascientist.com/wp-content/uploads/2020/10/Two-point-XO.png?resize=1024%2C279&ssl=1)"
   ]
  },
  {
   "cell_type": "markdown",
   "id": "e9261107",
   "metadata": {
    "id": "86b677e1-6440-479a-b182-670050454c1e",
    "papermill": {
     "duration": 0.021181,
     "end_time": "2025-03-18T12:19:09.755486",
     "exception": false,
     "start_time": "2025-03-18T12:19:09.734305",
     "status": "completed"
    },
    "tags": []
   },
   "source": [
    "Le schéma ci-dessus montre un opérateur de croisement à 2 points classique. Dans le cadre du PVC, nous devons adapter ce croisement de manière à ce que toutes les villes soient dans la liste une seule et unique fois."
   ]
  },
  {
   "cell_type": "markdown",
   "id": "c32c7c53",
   "metadata": {
    "id": "f68d8fe9-cd12-4a50-b85f-fb87e32644f4",
    "papermill": {
     "duration": 0.020339,
     "end_time": "2025-03-18T12:19:09.796422",
     "exception": false,
     "start_time": "2025-03-18T12:19:09.776083",
     "status": "completed"
    },
    "tags": []
   },
   "source": [
    "Pour respecter cette règle, nous pouvons utiliser une fonction de croisement spéciale appelée croisement ordonné (exemple figure ci-dessous). Dans le croisement ordonné choisi, l'enfant hérite d'abord un ensemble de gènes successifs du premier parent en bleu (gènes successifs choisis au hasard en jaune), puis le reste de l'itinéraire enfant est rempli avec les gènes du deuxième parent en rose dans l'ordre dans lesquels ils apparaissent en ignorant ceux qui y existent déjà."
   ]
  },
  {
   "cell_type": "markdown",
   "id": "fe9543df",
   "metadata": {
    "id": "5cda2782-4a20-434c-a81b-52fdde4bcd94",
    "papermill": {
     "duration": 0.019742,
     "end_time": "2025-03-18T12:19:09.836524",
     "exception": false,
     "start_time": "2025-03-18T12:19:09.816782",
     "status": "completed"
    },
    "tags": []
   },
   "source": [
    "![Capture d’écran 2024-02-02 à 22.02.00.png](attachment:488a20b9-ba3c-4a1e-8fdd-bc19750eb089.png)"
   ]
  },
  {
   "cell_type": "markdown",
   "id": "a0a9c4c5",
   "metadata": {
    "id": "4f2b14b6-3d70-4c73-8584-b3c3dcc1593d",
    "papermill": {
     "duration": 0.019587,
     "end_time": "2025-03-18T12:19:09.876969",
     "exception": false,
     "start_time": "2025-03-18T12:19:09.857382",
     "status": "completed"
    },
    "tags": []
   },
   "source": [
    "17. Créez la fonction croisementOr(parent1, parent2) et testez sur la sur 2 itinéraires créés précédemment (question n°4)."
   ]
  },
  {
   "cell_type": "markdown",
   "id": "22711111",
   "metadata": {
    "id": "beb05128-ed7a-4e94-8ff8-b7f2ae32fa6b",
    "papermill": {
     "duration": 0.01966,
     "end_time": "2025-03-18T12:19:09.917419",
     "exception": false,
     "start_time": "2025-03-18T12:19:09.897759",
     "status": "completed"
    },
    "tags": []
   },
   "source": [
    "**<span style=\"color:red\">\n",
    "SOLUTION\n",
    "</span>**"
   ]
  },
  {
   "cell_type": "code",
   "execution_count": 18,
   "id": "44f8db2e",
   "metadata": {
    "execution": {
     "iopub.execute_input": "2025-03-18T12:19:09.958611Z",
     "iopub.status.busy": "2025-03-18T12:19:09.958213Z",
     "iopub.status.idle": "2025-03-18T12:19:09.964278Z",
     "shell.execute_reply": "2025-03-18T12:19:09.962998Z"
    },
    "id": "1e6e27a0-039a-4676-8400-7b444e856b21",
    "papermill": {
     "duration": 0.028729,
     "end_time": "2025-03-18T12:19:09.965922",
     "exception": false,
     "start_time": "2025-03-18T12:19:09.937193",
     "status": "completed"
    },
    "tags": []
   },
   "outputs": [],
   "source": [
    "def croisementOr(parent1, parent2):\n",
    "    # Initialisation des listes vides pour les enfants\n",
    "    child = []\n",
    "    childP1 = []\n",
    "    childP2 = []\n",
    "\n",
    "    # Choix aléatoire de deux indices entre 0 et la taille de parent1\n",
    "    geneA = random.randint(0, len(parent1))  # Premier indice de croisement\n",
    "    geneB = random.randint(0, len(parent1))  # Deuxième indice de croisement\n",
    "\n",
    "    # Définir les indices de début et de fin du croisement en prenant le min et max des deux indices choisis\n",
    "    startGene = min(geneA, geneB)\n",
    "    endGene = max(geneA, geneB)\n",
    "\n",
    "    # Copie de la portion du parent1 entre les indices choisis dans childP1\n",
    "    for i in range(startGene, endGene):\n",
    "        childP1.append(parent1[i])\n",
    "\n",
    "    # Ajouter les éléments du parent2 qui ne sont pas déjà dans childP1 à childP2\n",
    "    childP2 = [item for item in parent2 if item not in childP1]\n",
    "\n",
    "    # Le nouvel enfant est la concaténation de childP1 (portion de parent1) et de childP2 (éléments restants de parent2)\n",
    "    child = childP1 + childP2\n",
    "    return child\n"
   ]
  },
  {
   "cell_type": "markdown",
   "id": "1f6ab9ce",
   "metadata": {
    "id": "a7444777-5cd9-4007-a6c0-692a4355a84c",
    "papermill": {
     "duration": 0.019642,
     "end_time": "2025-03-18T12:19:10.005594",
     "exception": false,
     "start_time": "2025-03-18T12:19:09.985952",
     "status": "completed"
    },
    "tags": []
   },
   "source": [
    "**<span style=\"color:red\">\n",
    "CROISEMENT : La nouvelle génération avant mutation\n",
    "</span>**"
   ]
  },
  {
   "cell_type": "markdown",
   "id": "5369cc1b",
   "metadata": {
    "id": "d4cb2d4f-e079-4e19-9593-14e03290730a",
    "papermill": {
     "duration": 0.019848,
     "end_time": "2025-03-18T12:19:10.045783",
     "exception": false,
     "start_time": "2025-03-18T12:19:10.025935",
     "status": "completed"
    },
    "tags": []
   },
   "source": [
    "18. Pour créer la nouvelle génération, nous conserverons quelques meilleurs itinéraires de la population actuelle (eliteSize). Puis, nous complétons la génération avec la fonction de sélection."
   ]
  },
  {
   "cell_type": "code",
   "execution_count": 19,
   "id": "b245acf9",
   "metadata": {
    "execution": {
     "iopub.execute_input": "2025-03-18T12:19:10.087082Z",
     "iopub.status.busy": "2025-03-18T12:19:10.086631Z",
     "iopub.status.idle": "2025-03-18T12:19:10.092427Z",
     "shell.execute_reply": "2025-03-18T12:19:10.091092Z"
    },
    "id": "5e3f96d1-1b1c-4f13-ba84-2b6dd1e69d85",
    "papermill": {
     "duration": 0.028463,
     "end_time": "2025-03-18T12:19:10.094199",
     "exception": false,
     "start_time": "2025-03-18T12:19:10.065736",
     "status": "completed"
    },
    "tags": []
   },
   "outputs": [],
   "source": [
    "# matingpool : liste des chromosomes selectionnés pour le croisement\n",
    "def nouvelleGeneration(matingpool, eliteSize):\n",
    "    children = []\n",
    "    length = len(matingpool) - eliteSize\n",
    "\n",
    "    #liste aléatoire puisque dans ma mating pool j'ai les élites en premier\n",
    "    pool = random.sample(matingpool, len(matingpool))\n",
    "\n",
    "    #je récupére les élite qu'il ne faut pas toucher\n",
    "    for i in range(0,eliteSize):\n",
    "        children.append(matingpool[i])\n",
    "\n",
    "    #ensuite le reste est le résultat du croisement\n",
    "    for i in range(0, length):\n",
    "        child = croisementOr(pool[i], pool[len(matingpool)-i-1]) #le 1er avec le dernier, le 2ème avec l'avant dernier...\n",
    "        children.append(child)\n",
    "    return children"
   ]
  },
  {
   "cell_type": "markdown",
   "id": "3abcea46",
   "metadata": {
    "id": "fd38ff74-0035-4417-b1e9-ea10de2f7572",
    "papermill": {
     "duration": 0.021455,
     "end_time": "2025-03-18T12:19:10.136714",
     "exception": false,
     "start_time": "2025-03-18T12:19:10.115259",
     "status": "completed"
    },
    "tags": []
   },
   "source": [
    "**<span style=\"color:red\">\n",
    "Mutation\n",
    "</span>**"
   ]
  },
  {
   "cell_type": "markdown",
   "id": "fe1bb8f0",
   "metadata": {
    "id": "b7ec2aa8-e91f-4af4-bf32-1165a4e83ca6",
    "papermill": {
     "duration": 0.020243,
     "end_time": "2025-03-18T12:19:10.177763",
     "exception": false,
     "start_time": "2025-03-18T12:19:10.157520",
     "status": "completed"
    },
    "tags": []
   },
   "source": [
    "19. Plusieurs techniques de mutation existent dans la littérature (vous pouvez créer la vôtre). Comme nous devons respecter la règle suivante : dans un chromosome (un itinéraire), il faut avoir tous les points et chaque point doit exister une seule fois, nous utiliserons la mutation par permutation. Cela signifie que, avec une faible probabilité spécifiée, deux points échangeront leur place dans notre itinéraire."
   ]
  },
  {
   "cell_type": "code",
   "execution_count": 20,
   "id": "7421e397",
   "metadata": {
    "execution": {
     "iopub.execute_input": "2025-03-18T12:19:10.219936Z",
     "iopub.status.busy": "2025-03-18T12:19:10.219498Z",
     "iopub.status.idle": "2025-03-18T12:19:10.224696Z",
     "shell.execute_reply": "2025-03-18T12:19:10.223729Z"
    },
    "id": "f5e36ca2-2a01-4318-8428-b6243c17e657",
    "papermill": {
     "duration": 0.028567,
     "end_time": "2025-03-18T12:19:10.226472",
     "exception": false,
     "start_time": "2025-03-18T12:19:10.197905",
     "status": "completed"
    },
    "tags": []
   },
   "outputs": [],
   "source": [
    "def mutation(individual, mutationRate):\n",
    "    # On parcourt chaque élément de l'individu (la solution actuelle)\n",
    "    for swapped in range(len(individual)):\n",
    "        # Avec une probabilité de mutation (mutationRate), on effectue un échange\n",
    "        if(random.random() < mutationRate):\n",
    "            # Choisir un autre indice au hasard dans la liste de l'individu pour effectuer l'échange\n",
    "            swapWith = random.randint(0, len(individual)-1)\n",
    "\n",
    "            # Sauvegarder les éléments à échanger\n",
    "            point1 = individual[swapped]\n",
    "            point2 = individual[swapWith]\n",
    "\n",
    "            # Effectuer l'échange des deux éléments\n",
    "            individual[swapped] = point2\n",
    "            individual[swapWith] = point1\n",
    "    return individual\n"
   ]
  },
  {
   "cell_type": "markdown",
   "id": "be21d12e",
   "metadata": {
    "id": "348476b6-9463-458a-80c2-88e3b6ec4c3c",
    "papermill": {
     "duration": 0.021594,
     "end_time": "2025-03-18T12:19:10.270483",
     "exception": false,
     "start_time": "2025-03-18T12:19:10.248889",
     "status": "completed"
    },
    "tags": []
   },
   "source": [
    "**<span style=\"color:red\">\n",
    "Application de la mutation\n",
    "</span>**"
   ]
  },
  {
   "cell_type": "code",
   "execution_count": 21,
   "id": "50c1678a",
   "metadata": {
    "execution": {
     "iopub.execute_input": "2025-03-18T12:19:10.312901Z",
     "iopub.status.busy": "2025-03-18T12:19:10.312564Z",
     "iopub.status.idle": "2025-03-18T12:19:10.317862Z",
     "shell.execute_reply": "2025-03-18T12:19:10.316681Z"
    },
    "id": "b36e8457-4cb1-4623-a4fe-0b7324f7c748",
    "papermill": {
     "duration": 0.02904,
     "end_time": "2025-03-18T12:19:10.319974",
     "exception": false,
     "start_time": "2025-03-18T12:19:10.290934",
     "status": "completed"
    },
    "tags": []
   },
   "outputs": [],
   "source": [
    "def mutationPopulation(population, mutationRate):\n",
    "    # Initialisation d'une nouvelle liste pour stocker les individus mutés\n",
    "    mutatedPop = []\n",
    "\n",
    "    # On parcourt tous les individus de la population\n",
    "    for ind in range(len(population)):\n",
    "        # On applique la fonction de mutation à chaque individu de la population\n",
    "        mutatedInd = mutation(population[ind], mutationRate)\n",
    "\n",
    "        # On ajoute l'individu muté à la nouvelle population\n",
    "        mutatedPop.append(mutatedInd)\n",
    "\n",
    "    # Retourner la population avec les mutations appliquées\n",
    "    return mutatedPop\n"
   ]
  },
  {
   "cell_type": "markdown",
   "id": "3214846d",
   "metadata": {
    "id": "83f48247-4a9f-4dc7-8170-f35924f8b75e",
    "papermill": {
     "duration": 0.021152,
     "end_time": "2025-03-18T12:19:10.362680",
     "exception": false,
     "start_time": "2025-03-18T12:19:10.341528",
     "status": "completed"
    },
    "tags": []
   },
   "source": [
    "**<span style=\"color:red\">\n",
    "Création de la nouvelle génération : selection  --> croisement --> mutation\n",
    "</span>**"
   ]
  },
  {
   "cell_type": "code",
   "execution_count": 22,
   "id": "01553d56",
   "metadata": {
    "execution": {
     "iopub.execute_input": "2025-03-18T12:19:10.404938Z",
     "iopub.status.busy": "2025-03-18T12:19:10.404478Z",
     "iopub.status.idle": "2025-03-18T12:19:10.409898Z",
     "shell.execute_reply": "2025-03-18T12:19:10.408828Z"
    },
    "id": "8afc7894-8c80-4f26-8b2c-6d19aecd6346",
    "papermill": {
     "duration": 0.029021,
     "end_time": "2025-03-18T12:19:10.411600",
     "exception": false,
     "start_time": "2025-03-18T12:19:10.382579",
     "status": "completed"
    },
    "tags": []
   },
   "outputs": [],
   "source": [
    "def nextGeneration(currentGen, eliteSize, mutationRate):\n",
    "    # Étape 1: Trier la population actuelle par la fitness des individus\n",
    "    popRanked = rankIts(currentGen)\n",
    "\n",
    "    # Étape 2: Sélectionner les individus pour le croisement selon leur fitness\n",
    "    selectionResults = selection(popRanked, eliteSize)  # Sélection des indices pour le croisement\n",
    "\n",
    "    # Étape 3: Créer un pool de reproduction (mating pool) à partir des individus sélectionnés\n",
    "    matingpool = matingPool(currentGen, selectionResults)  # Liste des individus sélectionnés pour la reproduction\n",
    "\n",
    "    # Étape 4: Créer une nouvelle génération d'enfants par croisement (crossover)\n",
    "    children = nouvelleGeneration(matingpool, eliteSize)  # Croisement pour générer les enfants\n",
    "\n",
    "    # Étape 5: Appliquer la mutation aux enfants pour introduire de la diversité\n",
    "    nextGeneration = mutationPopulation(children, mutationRate)  # Mutation de la nouvelle génération d'enfants\n",
    "\n",
    "    # Retourner la nouvelle génération après croisement et mutation\n",
    "    return nextGeneration\n"
   ]
  },
  {
   "cell_type": "markdown",
   "id": "005d4e26",
   "metadata": {
    "id": "4a3d3964-c002-49a6-8067-a1fc7186a801",
    "papermill": {
     "duration": 0.019817,
     "end_time": "2025-03-18T12:19:10.451764",
     "exception": false,
     "start_time": "2025-03-18T12:19:10.431947",
     "status": "completed"
    },
    "tags": []
   },
   "source": [
    "**<span style=\"color:red\">\n",
    "L'algorithme génétique\n",
    "</span>**"
   ]
  },
  {
   "cell_type": "markdown",
   "id": "661382ab",
   "metadata": {
    "id": "9747d89d-4d13-4dc0-8ded-f8ba41506b98",
    "papermill": {
     "duration": 0.019674,
     "end_time": "2025-03-18T12:19:10.491467",
     "exception": false,
     "start_time": "2025-03-18T12:19:10.471793",
     "status": "completed"
    },
    "tags": []
   },
   "source": [
    "* ListePointsAVisiter : la liste des points à visiter\n",
    "* popSize : la taille de la population\n",
    "* eliteSize : le nombre des meilleurs chromosomes gardés pour créer la nouvelle génération <= popSize\n",
    "* mutationRate : probabilité de mutaion\n",
    "* generations : nombre de générations"
   ]
  },
  {
   "cell_type": "code",
   "execution_count": 23,
   "id": "b200c771",
   "metadata": {
    "execution": {
     "iopub.execute_input": "2025-03-18T12:19:10.532674Z",
     "iopub.status.busy": "2025-03-18T12:19:10.532314Z",
     "iopub.status.idle": "2025-03-18T12:19:10.538153Z",
     "shell.execute_reply": "2025-03-18T12:19:10.537186Z"
    },
    "id": "3dac6d45-ca91-4b42-bd61-4c0fe00915a1",
    "papermill": {
     "duration": 0.028426,
     "end_time": "2025-03-18T12:19:10.539729",
     "exception": false,
     "start_time": "2025-03-18T12:19:10.511303",
     "status": "completed"
    },
    "tags": []
   },
   "outputs": [],
   "source": [
    "def geneticAlgorithm(ListePointsAVisiter, popSize, eliteSize, mutationRate, generations):\n",
    "    # Étape 1: Initialiser la population\n",
    "    pop = initialPopulation(popSize, ListePointsAVisiter)\n",
    "    print(\"Initial distance: \" + str(1 / rankIts(pop)[0][1]))  # Afficher la distance de la meilleure solution initiale\n",
    "\n",
    "    # Étape 2: Exécution de l'algorithme génétique pour un certain nombre de générations\n",
    "    for i in range(0, generations):\n",
    "        print(f\"Génération n{i+1}\")  # Afficher la génération actuelle\n",
    "        # Générer la prochaine génération en appliquant la sélection, le croisement et la mutation\n",
    "        pop = nextGeneration(pop, eliteSize, mutationRate)\n",
    "\n",
    "    # Étape 3: Afficher la distance de la meilleure solution après toutes les générations\n",
    "    print(\"Final distance: \" + str(1 / rankIts(pop)[0][1]))\n",
    "\n",
    "    # Étape 4: Récupérer l'index de la meilleure route et la meilleure solution\n",
    "    bestRouteIndex = rankIts(pop)[0][0]\n",
    "    bestRoute = pop[bestRouteIndex]\n",
    "\n",
    "    # Retourner la meilleure solution trouvée\n",
    "    return bestRoute\n"
   ]
  },
  {
   "cell_type": "markdown",
   "id": "c1ab52f5",
   "metadata": {
    "id": "37efbc39-775f-4121-b7de-954f2c46e8a2",
    "papermill": {
     "duration": 0.019419,
     "end_time": "2025-03-18T12:19:10.579988",
     "exception": false,
     "start_time": "2025-03-18T12:19:10.560569",
     "status": "completed"
    },
    "tags": []
   },
   "source": [
    "**<span style=\"color:red\">\n",
    "Exécution de l'algorithme génétique\n",
    "</span>**"
   ]
  },
  {
   "cell_type": "markdown",
   "id": "1a9d91fa",
   "metadata": {
    "id": "dc6248a8-e356-4fe1-806c-adf0b45757ec",
    "papermill": {
     "duration": 0.020704,
     "end_time": "2025-03-18T12:19:10.621978",
     "exception": false,
     "start_time": "2025-03-18T12:19:10.601274",
     "status": "completed"
    },
    "tags": []
   },
   "source": [
    "Pour son exécution, l'algorithme nécessite une population de départ : une liste de points à visiter comme il a été fait dans la question 3:\n",
    "* N : nombre de points à visiter.\n",
    "* L et H : longueur et hauteur de la grille dans laquelle vous allez placer vos points."
   ]
  },
  {
   "cell_type": "code",
   "execution_count": 24,
   "id": "ee35218a",
   "metadata": {
    "execution": {
     "iopub.execute_input": "2025-03-18T12:19:10.664397Z",
     "iopub.status.busy": "2025-03-18T12:19:10.663994Z",
     "iopub.status.idle": "2025-03-18T12:19:10.670485Z",
     "shell.execute_reply": "2025-03-18T12:19:10.669238Z"
    },
    "id": "fd836b97-30c2-44c5-bd6d-a9bbd3da472e",
    "outputId": "f8774f8d-0b1a-481e-b14e-e7380b4dc5a0",
    "papermill": {
     "duration": 0.029898,
     "end_time": "2025-03-18T12:19:10.672777",
     "exception": false,
     "start_time": "2025-03-18T12:19:10.642879",
     "status": "completed"
    },
    "tags": []
   },
   "outputs": [
    {
     "name": "stdout",
     "output_type": "stream",
     "text": [
      "[(44, 56), (111, 64), (104, 140), (6, 97), (164, 192), (155, 152), (17, 50), (20, 146), (124, 195), (192, 157), (110, 133), (30, 17), (7, 22), (133, 178), (65, 142), (182, 177), (140, 185), (110, 37), (92, 108), (74, 180), (10, 84), (92, 36), (41, 8), (56, 20), (100, 36)]\n"
     ]
    }
   ],
   "source": [
    "import random\n",
    "N=25\n",
    "L=200\n",
    "H=200\n",
    "pointsL = []\n",
    "\n",
    "for i in range(0,N):\n",
    "    pointsL.append(Point(random.randint(0,L), random.randint(0,H)))\n",
    "print(pointsL)"
   ]
  },
  {
   "cell_type": "code",
   "execution_count": 25,
   "id": "e8e328fa",
   "metadata": {
    "execution": {
     "iopub.execute_input": "2025-03-18T12:19:10.714584Z",
     "iopub.status.busy": "2025-03-18T12:19:10.714244Z",
     "iopub.status.idle": "2025-03-18T12:19:12.597371Z",
     "shell.execute_reply": "2025-03-18T12:19:12.596336Z"
    },
    "id": "6cc6c9d2-e8d3-495e-a3ea-9593fd3c47c7",
    "outputId": "635a72cf-a140-4bc4-bbae-3fbf9e46f7e7",
    "papermill": {
     "duration": 1.905831,
     "end_time": "2025-03-18T12:19:12.599289",
     "exception": false,
     "start_time": "2025-03-18T12:19:10.693458",
     "status": "completed"
    },
    "tags": []
   },
   "outputs": [
    {
     "name": "stdout",
     "output_type": "stream",
     "text": [
      "Initial distance: 2295.416494237979\n",
      "Génération n1\n",
      "Génération n2\n",
      "Génération n3\n",
      "Génération n4\n",
      "Génération n5\n",
      "Génération n6\n",
      "Génération n7\n",
      "Génération n8\n",
      "Génération n9\n",
      "Génération n10\n",
      "Génération n11\n",
      "Génération n12\n",
      "Génération n13\n",
      "Génération n14\n",
      "Génération n15\n",
      "Génération n16\n",
      "Génération n17\n",
      "Génération n18\n",
      "Génération n19\n",
      "Génération n20\n",
      "Génération n21\n",
      "Génération n22\n",
      "Génération n23\n",
      "Génération n24\n",
      "Génération n25\n",
      "Génération n26\n",
      "Génération n27\n",
      "Génération n28\n",
      "Génération n29\n",
      "Génération n30\n",
      "Génération n31\n",
      "Génération n32\n",
      "Génération n33\n",
      "Génération n34\n",
      "Génération n35\n",
      "Génération n36\n",
      "Génération n37\n",
      "Génération n38\n",
      "Génération n39\n",
      "Génération n40\n",
      "Génération n41\n",
      "Génération n42\n",
      "Génération n43\n",
      "Génération n44\n",
      "Génération n45\n",
      "Génération n46\n",
      "Génération n47\n",
      "Génération n48\n",
      "Génération n49\n",
      "Génération n50\n",
      "Génération n51\n",
      "Génération n52\n",
      "Génération n53\n",
      "Génération n54\n",
      "Génération n55\n",
      "Génération n56\n",
      "Génération n57\n",
      "Génération n58\n",
      "Génération n59\n",
      "Génération n60\n",
      "Génération n61\n",
      "Génération n62\n",
      "Génération n63\n",
      "Génération n64\n",
      "Génération n65\n",
      "Génération n66\n",
      "Génération n67\n",
      "Génération n68\n",
      "Génération n69\n",
      "Génération n70\n",
      "Génération n71\n",
      "Génération n72\n",
      "Génération n73\n",
      "Génération n74\n",
      "Génération n75\n",
      "Génération n76\n",
      "Génération n77\n",
      "Génération n78\n",
      "Génération n79\n",
      "Génération n80\n",
      "Génération n81\n",
      "Génération n82\n",
      "Génération n83\n",
      "Génération n84\n",
      "Génération n85\n",
      "Génération n86\n",
      "Génération n87\n",
      "Génération n88\n",
      "Génération n89\n",
      "Génération n90\n",
      "Génération n91\n",
      "Génération n92\n",
      "Génération n93\n",
      "Génération n94\n",
      "Génération n95\n",
      "Génération n96\n",
      "Génération n97\n",
      "Génération n98\n",
      "Génération n99\n",
      "Génération n100\n",
      "Génération n101\n",
      "Génération n102\n",
      "Génération n103\n",
      "Génération n104\n",
      "Génération n105\n",
      "Génération n106\n",
      "Génération n107\n",
      "Génération n108\n",
      "Génération n109\n",
      "Génération n110\n",
      "Génération n111\n",
      "Génération n112\n",
      "Génération n113\n",
      "Génération n114\n",
      "Génération n115\n",
      "Génération n116\n",
      "Génération n117\n",
      "Génération n118\n",
      "Génération n119\n",
      "Génération n120\n",
      "Génération n121\n",
      "Génération n122\n",
      "Génération n123\n",
      "Génération n124\n",
      "Génération n125\n",
      "Génération n126\n",
      "Génération n127\n",
      "Génération n128\n",
      "Génération n129\n",
      "Génération n130\n",
      "Génération n131\n",
      "Génération n132\n",
      "Génération n133\n",
      "Génération n134\n",
      "Génération n135\n",
      "Génération n136\n",
      "Génération n137\n",
      "Génération n138\n",
      "Génération n139\n",
      "Génération n140\n",
      "Génération n141\n",
      "Génération n142\n",
      "Génération n143\n",
      "Génération n144\n",
      "Génération n145\n",
      "Génération n146\n",
      "Génération n147\n",
      "Génération n148\n",
      "Génération n149\n",
      "Génération n150\n",
      "Génération n151\n",
      "Génération n152\n",
      "Génération n153\n",
      "Génération n154\n",
      "Génération n155\n",
      "Génération n156\n",
      "Génération n157\n",
      "Génération n158\n",
      "Génération n159\n",
      "Génération n160\n",
      "Génération n161\n",
      "Génération n162\n",
      "Génération n163\n",
      "Génération n164\n",
      "Génération n165\n",
      "Génération n166\n",
      "Génération n167\n",
      "Génération n168\n",
      "Génération n169\n",
      "Génération n170\n",
      "Génération n171\n",
      "Génération n172\n",
      "Génération n173\n",
      "Génération n174\n",
      "Génération n175\n",
      "Génération n176\n",
      "Génération n177\n",
      "Génération n178\n",
      "Génération n179\n",
      "Génération n180\n",
      "Génération n181\n",
      "Génération n182\n",
      "Génération n183\n",
      "Génération n184\n",
      "Génération n185\n",
      "Génération n186\n",
      "Génération n187\n",
      "Génération n188\n",
      "Génération n189\n",
      "Génération n190\n",
      "Génération n191\n",
      "Génération n192\n",
      "Génération n193\n",
      "Génération n194\n",
      "Génération n195\n",
      "Génération n196\n",
      "Génération n197\n",
      "Génération n198\n",
      "Génération n199\n",
      "Génération n200\n",
      "Génération n201\n",
      "Génération n202\n",
      "Génération n203\n",
      "Génération n204\n",
      "Génération n205\n",
      "Génération n206\n",
      "Génération n207\n",
      "Génération n208\n",
      "Génération n209\n",
      "Génération n210\n",
      "Génération n211\n",
      "Génération n212\n",
      "Génération n213\n",
      "Génération n214\n",
      "Génération n215\n",
      "Génération n216\n",
      "Génération n217\n",
      "Génération n218\n",
      "Génération n219\n",
      "Génération n220\n",
      "Génération n221\n",
      "Génération n222\n",
      "Génération n223\n",
      "Génération n224\n",
      "Génération n225\n",
      "Génération n226\n",
      "Génération n227\n",
      "Génération n228\n",
      "Génération n229\n",
      "Génération n230\n",
      "Génération n231\n",
      "Génération n232\n",
      "Génération n233\n",
      "Génération n234\n",
      "Génération n235\n",
      "Génération n236\n",
      "Génération n237\n",
      "Génération n238\n",
      "Génération n239\n",
      "Génération n240\n",
      "Génération n241\n",
      "Génération n242\n",
      "Génération n243\n",
      "Génération n244\n",
      "Génération n245\n",
      "Génération n246\n",
      "Génération n247\n",
      "Génération n248\n",
      "Génération n249\n",
      "Génération n250\n",
      "Génération n251\n",
      "Génération n252\n",
      "Génération n253\n",
      "Génération n254\n",
      "Génération n255\n",
      "Génération n256\n",
      "Génération n257\n",
      "Génération n258\n",
      "Génération n259\n",
      "Génération n260\n",
      "Génération n261\n",
      "Génération n262\n",
      "Génération n263\n",
      "Génération n264\n",
      "Génération n265\n",
      "Génération n266\n",
      "Génération n267\n",
      "Génération n268\n",
      "Génération n269\n",
      "Génération n270\n",
      "Génération n271\n",
      "Génération n272\n",
      "Génération n273\n",
      "Génération n274\n",
      "Génération n275\n",
      "Génération n276\n",
      "Génération n277\n",
      "Génération n278\n",
      "Génération n279\n",
      "Génération n280\n",
      "Génération n281\n",
      "Génération n282\n",
      "Génération n283\n",
      "Génération n284\n",
      "Génération n285\n",
      "Génération n286\n",
      "Génération n287\n",
      "Génération n288\n",
      "Génération n289\n",
      "Génération n290\n",
      "Génération n291\n",
      "Génération n292\n",
      "Génération n293\n",
      "Génération n294\n",
      "Génération n295\n",
      "Génération n296\n",
      "Génération n297\n",
      "Génération n298\n",
      "Génération n299\n",
      "Génération n300\n",
      "Génération n301\n",
      "Génération n302\n",
      "Génération n303\n",
      "Génération n304\n",
      "Génération n305\n",
      "Génération n306\n",
      "Génération n307\n",
      "Génération n308\n",
      "Génération n309\n",
      "Génération n310\n",
      "Génération n311\n",
      "Génération n312\n",
      "Génération n313\n",
      "Génération n314\n",
      "Génération n315\n",
      "Génération n316\n",
      "Génération n317\n",
      "Génération n318\n",
      "Génération n319\n",
      "Génération n320\n",
      "Génération n321\n",
      "Génération n322\n",
      "Génération n323\n",
      "Génération n324\n",
      "Génération n325\n",
      "Génération n326\n",
      "Génération n327\n",
      "Génération n328\n",
      "Génération n329\n",
      "Génération n330\n",
      "Génération n331\n",
      "Génération n332\n",
      "Génération n333\n",
      "Génération n334\n",
      "Génération n335\n",
      "Génération n336\n",
      "Génération n337\n",
      "Génération n338\n",
      "Génération n339\n",
      "Génération n340\n",
      "Génération n341\n",
      "Génération n342\n",
      "Génération n343\n",
      "Génération n344\n",
      "Génération n345\n",
      "Génération n346\n",
      "Génération n347\n",
      "Génération n348\n",
      "Génération n349\n",
      "Génération n350\n",
      "Génération n351\n",
      "Génération n352\n",
      "Génération n353\n",
      "Génération n354\n",
      "Génération n355\n",
      "Génération n356\n",
      "Génération n357\n",
      "Génération n358\n",
      "Génération n359\n",
      "Génération n360\n",
      "Génération n361\n",
      "Génération n362\n",
      "Génération n363\n",
      "Génération n364\n",
      "Génération n365\n",
      "Génération n366\n",
      "Génération n367\n",
      "Génération n368\n",
      "Génération n369\n",
      "Génération n370\n",
      "Génération n371\n",
      "Génération n372\n",
      "Génération n373\n",
      "Génération n374\n",
      "Génération n375\n",
      "Génération n376\n",
      "Génération n377\n",
      "Génération n378\n",
      "Génération n379\n",
      "Génération n380\n",
      "Génération n381\n",
      "Génération n382\n",
      "Génération n383\n",
      "Génération n384\n",
      "Génération n385\n",
      "Génération n386\n",
      "Génération n387\n",
      "Génération n388\n",
      "Génération n389\n",
      "Génération n390\n",
      "Génération n391\n",
      "Génération n392\n",
      "Génération n393\n",
      "Génération n394\n",
      "Génération n395\n",
      "Génération n396\n",
      "Génération n397\n",
      "Génération n398\n",
      "Génération n399\n",
      "Génération n400\n",
      "Génération n401\n",
      "Génération n402\n",
      "Génération n403\n",
      "Génération n404\n",
      "Génération n405\n",
      "Génération n406\n",
      "Génération n407\n",
      "Génération n408\n",
      "Génération n409\n",
      "Génération n410\n",
      "Génération n411\n",
      "Génération n412\n",
      "Génération n413\n",
      "Génération n414\n",
      "Génération n415\n",
      "Génération n416\n",
      "Génération n417\n",
      "Génération n418\n",
      "Génération n419\n",
      "Génération n420\n",
      "Génération n421\n",
      "Génération n422\n",
      "Génération n423\n",
      "Génération n424\n",
      "Génération n425\n",
      "Génération n426\n",
      "Génération n427\n",
      "Génération n428\n",
      "Génération n429\n",
      "Génération n430\n",
      "Génération n431\n",
      "Génération n432\n",
      "Génération n433\n",
      "Génération n434\n",
      "Génération n435\n",
      "Génération n436\n",
      "Génération n437\n",
      "Génération n438\n",
      "Génération n439\n",
      "Génération n440\n",
      "Génération n441\n",
      "Génération n442\n",
      "Génération n443\n",
      "Génération n444\n",
      "Génération n445\n",
      "Génération n446\n",
      "Génération n447\n",
      "Génération n448\n",
      "Génération n449\n",
      "Génération n450\n",
      "Génération n451\n",
      "Génération n452\n",
      "Génération n453\n",
      "Génération n454\n",
      "Génération n455\n",
      "Génération n456\n",
      "Génération n457\n",
      "Génération n458\n",
      "Génération n459\n",
      "Génération n460\n",
      "Génération n461\n",
      "Génération n462\n",
      "Génération n463\n",
      "Génération n464\n",
      "Génération n465\n",
      "Génération n466\n",
      "Génération n467\n",
      "Génération n468\n",
      "Génération n469\n",
      "Génération n470\n",
      "Génération n471\n",
      "Génération n472\n",
      "Génération n473\n",
      "Génération n474\n",
      "Génération n475\n",
      "Génération n476\n",
      "Génération n477\n",
      "Génération n478\n",
      "Génération n479\n",
      "Génération n480\n",
      "Génération n481\n",
      "Génération n482\n",
      "Génération n483\n",
      "Génération n484\n",
      "Génération n485\n",
      "Génération n486\n",
      "Génération n487\n",
      "Génération n488\n",
      "Génération n489\n",
      "Génération n490\n",
      "Génération n491\n",
      "Génération n492\n",
      "Génération n493\n",
      "Génération n494\n",
      "Génération n495\n",
      "Génération n496\n",
      "Génération n497\n",
      "Génération n498\n",
      "Génération n499\n",
      "Génération n500\n",
      "Final distance: 1496.1243925783208\n"
     ]
    },
    {
     "data": {
      "text/plain": [
       "[(104, 140),\n",
       " (92, 108),\n",
       " (17, 50),\n",
       " (56, 20),\n",
       " (92, 36),\n",
       " (44, 56),\n",
       " (7, 22),\n",
       " (10, 84),\n",
       " (6, 97),\n",
       " (41, 8),\n",
       " (30, 17),\n",
       " (20, 146),\n",
       " (74, 180),\n",
       " (110, 133),\n",
       " (155, 152),\n",
       " (140, 185),\n",
       " (133, 178),\n",
       " (164, 192),\n",
       " (182, 177),\n",
       " (192, 157),\n",
       " (100, 36),\n",
       " (110, 37),\n",
       " (65, 142),\n",
       " (124, 195),\n",
       " (111, 64)]"
      ]
     },
     "execution_count": 25,
     "metadata": {},
     "output_type": "execute_result"
    }
   ],
   "source": [
    "geneticAlgorithm(ListePointsAVisiter=pointsL, popSize=100, eliteSize=20, mutationRate=0.01, generations=500)"
   ]
  },
  {
   "cell_type": "markdown",
   "id": "9ad4164f",
   "metadata": {
    "id": "af9c23de-0126-4de9-a3b9-a21a9deedb68",
    "papermill": {
     "duration": 0.024795,
     "end_time": "2025-03-18T12:19:12.645712",
     "exception": false,
     "start_time": "2025-03-18T12:19:12.620917",
     "status": "completed"
    },
    "tags": []
   },
   "source": [
    "**<span style=\"color:red\">\n",
    "L'algorithme génétique : version avec graphique (courbe d'évolution de la FO)\n",
    "</span>**"
   ]
  },
  {
   "cell_type": "code",
   "execution_count": 26,
   "id": "bbf0f8a1",
   "metadata": {
    "execution": {
     "iopub.execute_input": "2025-03-18T12:19:12.690471Z",
     "iopub.status.busy": "2025-03-18T12:19:12.690064Z",
     "iopub.status.idle": "2025-03-18T12:19:12.696409Z",
     "shell.execute_reply": "2025-03-18T12:19:12.695244Z"
    },
    "id": "b748e050-5d84-4b4d-b09e-6bcbd6e44f9b",
    "papermill": {
     "duration": 0.030592,
     "end_time": "2025-03-18T12:19:12.698393",
     "exception": false,
     "start_time": "2025-03-18T12:19:12.667801",
     "status": "completed"
    },
    "tags": []
   },
   "outputs": [],
   "source": [
    "from matplotlib import pyplot\n",
    "\n",
    "def geneticAlgorithmPlot(population, popSize, eliteSize, mutationRate, generations):\n",
    "    # Étape 1: Initialiser la population\n",
    "    pop = initialPopulation(popSize, population)\n",
    "\n",
    "    # Liste pour stocker l'évolution de la meilleure solution au fil des générations\n",
    "    progress = []\n",
    "\n",
    "    # Ajouter la distance (fitness) du meilleur individu de la population initiale\n",
    "    progress.append(1 / rankIts(pop)[0][1])  # Fitness est l'inverse de la distance, donc on prend 1 / distance\n",
    "\n",
    "    # Étape 2: Exécuter l'algorithme génétique sur plusieurs générations\n",
    "    for i in range(0, generations):\n",
    "        print(f\"Génération n{i+1}\")  # Afficher le numéro de la génération actuelle\n",
    "        # Créer la prochaine génération en appliquant la sélection, le croisement et la mutation\n",
    "        pop = nextGeneration(pop, eliteSize, mutationRate)\n",
    "\n",
    "        # Ajouter la distance du meilleur individu après cette génération\n",
    "        progress.append(1 / rankIts(pop)[0][1])  # Mettre à jour l'évolution de la distance\n",
    "\n",
    "    # Étape 3: Tracer l'évolution de la distance au fil des générations\n",
    "    pyplot.plot(progress)  # Tracer l'évolution de la meilleure solution\n",
    "    pyplot.ylabel('Distance')  # L'axe des ordonnées représente la distance (fitness)\n",
    "    pyplot.xlabel('Generation')  # L'axe des abscisses représente le numéro de génération\n",
    "    pyplot.show()  # Afficher le graphique\n"
   ]
  },
  {
   "cell_type": "markdown",
   "id": "aa446b29",
   "metadata": {
    "id": "1ac01a2d-d2d4-47bc-86ba-36ad7e66ad9f",
    "papermill": {
     "duration": 0.021136,
     "end_time": "2025-03-18T12:19:12.740974",
     "exception": false,
     "start_time": "2025-03-18T12:19:12.719838",
     "status": "completed"
    },
    "tags": []
   },
   "source": [
    "**<span style=\"color:red\">\n",
    "Exécution de l'algorithme génétique avec un affichage graphique de la fonction fitness\n",
    "</span>**"
   ]
  },
  {
   "cell_type": "code",
   "execution_count": 27,
   "id": "9edd0178",
   "metadata": {
    "execution": {
     "iopub.execute_input": "2025-03-18T12:19:12.785365Z",
     "iopub.status.busy": "2025-03-18T12:19:12.784997Z",
     "iopub.status.idle": "2025-03-18T12:19:15.172439Z",
     "shell.execute_reply": "2025-03-18T12:19:15.171421Z"
    },
    "id": "e32305be-0f41-431f-904b-ab2bed970b7f",
    "outputId": "4c97d2bf-1b37-44ce-a7b0-be6099cf377f",
    "papermill": {
     "duration": 2.411577,
     "end_time": "2025-03-18T12:19:15.174381",
     "exception": false,
     "start_time": "2025-03-18T12:19:12.762804",
     "status": "completed"
    },
    "tags": []
   },
   "outputs": [
    {
     "name": "stdout",
     "output_type": "stream",
     "text": [
      "Génération n1\n",
      "Génération n2\n",
      "Génération n3\n",
      "Génération n4\n",
      "Génération n5\n",
      "Génération n6\n",
      "Génération n7\n",
      "Génération n8\n",
      "Génération n9\n",
      "Génération n10\n",
      "Génération n11\n",
      "Génération n12\n",
      "Génération n13\n",
      "Génération n14\n",
      "Génération n15\n",
      "Génération n16\n",
      "Génération n17\n",
      "Génération n18\n",
      "Génération n19\n",
      "Génération n20\n",
      "Génération n21\n",
      "Génération n22\n",
      "Génération n23\n",
      "Génération n24\n",
      "Génération n25\n",
      "Génération n26\n",
      "Génération n27\n",
      "Génération n28\n",
      "Génération n29\n",
      "Génération n30\n",
      "Génération n31\n",
      "Génération n32\n",
      "Génération n33\n",
      "Génération n34\n",
      "Génération n35\n",
      "Génération n36\n",
      "Génération n37\n",
      "Génération n38\n",
      "Génération n39\n",
      "Génération n40\n",
      "Génération n41\n",
      "Génération n42\n",
      "Génération n43\n",
      "Génération n44\n",
      "Génération n45\n",
      "Génération n46\n",
      "Génération n47\n",
      "Génération n48\n",
      "Génération n49\n",
      "Génération n50\n",
      "Génération n51\n",
      "Génération n52\n",
      "Génération n53\n",
      "Génération n54\n",
      "Génération n55\n",
      "Génération n56\n",
      "Génération n57\n",
      "Génération n58\n",
      "Génération n59\n",
      "Génération n60\n",
      "Génération n61\n",
      "Génération n62\n",
      "Génération n63\n",
      "Génération n64\n",
      "Génération n65\n",
      "Génération n66\n",
      "Génération n67\n",
      "Génération n68\n",
      "Génération n69\n",
      "Génération n70\n",
      "Génération n71\n",
      "Génération n72\n",
      "Génération n73\n",
      "Génération n74\n",
      "Génération n75\n",
      "Génération n76\n",
      "Génération n77\n",
      "Génération n78\n",
      "Génération n79\n",
      "Génération n80\n",
      "Génération n81\n",
      "Génération n82\n",
      "Génération n83\n",
      "Génération n84\n",
      "Génération n85\n",
      "Génération n86\n",
      "Génération n87\n",
      "Génération n88\n",
      "Génération n89\n",
      "Génération n90\n",
      "Génération n91\n",
      "Génération n92\n",
      "Génération n93\n",
      "Génération n94\n",
      "Génération n95\n",
      "Génération n96\n",
      "Génération n97\n",
      "Génération n98\n",
      "Génération n99\n",
      "Génération n100\n",
      "Génération n101\n",
      "Génération n102\n",
      "Génération n103\n",
      "Génération n104\n",
      "Génération n105\n",
      "Génération n106\n",
      "Génération n107\n",
      "Génération n108\n",
      "Génération n109\n",
      "Génération n110\n",
      "Génération n111\n",
      "Génération n112\n",
      "Génération n113\n",
      "Génération n114\n",
      "Génération n115\n",
      "Génération n116\n",
      "Génération n117\n",
      "Génération n118\n",
      "Génération n119\n",
      "Génération n120\n",
      "Génération n121\n",
      "Génération n122\n",
      "Génération n123\n",
      "Génération n124\n",
      "Génération n125\n",
      "Génération n126\n",
      "Génération n127\n",
      "Génération n128\n",
      "Génération n129\n",
      "Génération n130\n",
      "Génération n131\n",
      "Génération n132\n",
      "Génération n133\n",
      "Génération n134\n",
      "Génération n135\n",
      "Génération n136\n",
      "Génération n137\n",
      "Génération n138\n",
      "Génération n139\n",
      "Génération n140\n",
      "Génération n141\n",
      "Génération n142\n",
      "Génération n143\n",
      "Génération n144\n",
      "Génération n145\n",
      "Génération n146\n",
      "Génération n147\n",
      "Génération n148\n",
      "Génération n149\n",
      "Génération n150\n",
      "Génération n151\n",
      "Génération n152\n",
      "Génération n153\n",
      "Génération n154\n",
      "Génération n155\n",
      "Génération n156\n",
      "Génération n157\n",
      "Génération n158\n",
      "Génération n159\n",
      "Génération n160\n",
      "Génération n161\n",
      "Génération n162\n",
      "Génération n163\n",
      "Génération n164\n",
      "Génération n165\n",
      "Génération n166\n",
      "Génération n167\n",
      "Génération n168\n",
      "Génération n169\n",
      "Génération n170\n",
      "Génération n171\n",
      "Génération n172\n",
      "Génération n173\n",
      "Génération n174\n",
      "Génération n175\n",
      "Génération n176\n",
      "Génération n177\n",
      "Génération n178\n",
      "Génération n179\n",
      "Génération n180\n",
      "Génération n181\n",
      "Génération n182\n",
      "Génération n183\n",
      "Génération n184\n",
      "Génération n185\n",
      "Génération n186\n",
      "Génération n187\n",
      "Génération n188\n",
      "Génération n189\n",
      "Génération n190\n",
      "Génération n191\n",
      "Génération n192\n",
      "Génération n193\n",
      "Génération n194\n",
      "Génération n195\n",
      "Génération n196\n",
      "Génération n197\n",
      "Génération n198\n",
      "Génération n199\n",
      "Génération n200\n",
      "Génération n201\n",
      "Génération n202\n",
      "Génération n203\n",
      "Génération n204\n",
      "Génération n205\n",
      "Génération n206\n",
      "Génération n207\n",
      "Génération n208\n",
      "Génération n209\n",
      "Génération n210\n",
      "Génération n211\n",
      "Génération n212\n",
      "Génération n213\n",
      "Génération n214\n",
      "Génération n215\n",
      "Génération n216\n",
      "Génération n217\n",
      "Génération n218\n",
      "Génération n219\n",
      "Génération n220\n",
      "Génération n221\n",
      "Génération n222\n",
      "Génération n223\n",
      "Génération n224\n",
      "Génération n225\n",
      "Génération n226\n",
      "Génération n227\n",
      "Génération n228\n",
      "Génération n229\n",
      "Génération n230\n",
      "Génération n231\n",
      "Génération n232\n",
      "Génération n233\n",
      "Génération n234\n",
      "Génération n235\n",
      "Génération n236\n",
      "Génération n237\n",
      "Génération n238\n",
      "Génération n239\n",
      "Génération n240\n",
      "Génération n241\n",
      "Génération n242\n",
      "Génération n243\n",
      "Génération n244\n",
      "Génération n245\n",
      "Génération n246\n",
      "Génération n247\n",
      "Génération n248\n",
      "Génération n249\n",
      "Génération n250\n",
      "Génération n251\n",
      "Génération n252\n",
      "Génération n253\n",
      "Génération n254\n",
      "Génération n255\n",
      "Génération n256\n",
      "Génération n257\n",
      "Génération n258\n",
      "Génération n259\n",
      "Génération n260\n",
      "Génération n261\n",
      "Génération n262\n",
      "Génération n263\n",
      "Génération n264\n",
      "Génération n265\n",
      "Génération n266\n",
      "Génération n267\n",
      "Génération n268\n",
      "Génération n269\n",
      "Génération n270\n",
      "Génération n271\n",
      "Génération n272\n",
      "Génération n273\n",
      "Génération n274\n",
      "Génération n275\n",
      "Génération n276\n",
      "Génération n277\n",
      "Génération n278\n",
      "Génération n279\n",
      "Génération n280\n",
      "Génération n281\n",
      "Génération n282\n",
      "Génération n283\n",
      "Génération n284\n",
      "Génération n285\n",
      "Génération n286\n",
      "Génération n287\n",
      "Génération n288\n",
      "Génération n289\n",
      "Génération n290\n",
      "Génération n291\n",
      "Génération n292\n",
      "Génération n293\n",
      "Génération n294\n",
      "Génération n295\n",
      "Génération n296\n",
      "Génération n297\n",
      "Génération n298\n",
      "Génération n299\n",
      "Génération n300\n",
      "Génération n301\n",
      "Génération n302\n",
      "Génération n303\n",
      "Génération n304\n",
      "Génération n305\n",
      "Génération n306\n",
      "Génération n307\n",
      "Génération n308\n",
      "Génération n309\n",
      "Génération n310\n",
      "Génération n311\n",
      "Génération n312\n",
      "Génération n313\n",
      "Génération n314\n",
      "Génération n315\n",
      "Génération n316\n",
      "Génération n317\n",
      "Génération n318\n",
      "Génération n319\n",
      "Génération n320\n",
      "Génération n321\n",
      "Génération n322\n",
      "Génération n323\n",
      "Génération n324\n",
      "Génération n325\n",
      "Génération n326\n",
      "Génération n327\n",
      "Génération n328\n",
      "Génération n329\n",
      "Génération n330\n",
      "Génération n331\n",
      "Génération n332\n",
      "Génération n333\n",
      "Génération n334\n",
      "Génération n335\n",
      "Génération n336\n",
      "Génération n337\n",
      "Génération n338\n",
      "Génération n339\n",
      "Génération n340\n",
      "Génération n341\n",
      "Génération n342\n",
      "Génération n343\n",
      "Génération n344\n",
      "Génération n345\n",
      "Génération n346\n",
      "Génération n347\n",
      "Génération n348\n",
      "Génération n349\n",
      "Génération n350\n",
      "Génération n351\n",
      "Génération n352\n",
      "Génération n353\n",
      "Génération n354\n",
      "Génération n355\n",
      "Génération n356\n",
      "Génération n357\n",
      "Génération n358\n",
      "Génération n359\n",
      "Génération n360\n",
      "Génération n361\n",
      "Génération n362\n",
      "Génération n363\n",
      "Génération n364\n",
      "Génération n365\n",
      "Génération n366\n",
      "Génération n367\n",
      "Génération n368\n",
      "Génération n369\n",
      "Génération n370\n",
      "Génération n371\n",
      "Génération n372\n",
      "Génération n373\n",
      "Génération n374\n",
      "Génération n375\n",
      "Génération n376\n",
      "Génération n377\n",
      "Génération n378\n",
      "Génération n379\n",
      "Génération n380\n",
      "Génération n381\n",
      "Génération n382\n",
      "Génération n383\n",
      "Génération n384\n",
      "Génération n385\n",
      "Génération n386\n",
      "Génération n387\n",
      "Génération n388\n",
      "Génération n389\n",
      "Génération n390\n",
      "Génération n391\n",
      "Génération n392\n",
      "Génération n393\n",
      "Génération n394\n",
      "Génération n395\n",
      "Génération n396\n",
      "Génération n397\n",
      "Génération n398\n",
      "Génération n399\n",
      "Génération n400\n",
      "Génération n401\n",
      "Génération n402\n",
      "Génération n403\n",
      "Génération n404\n",
      "Génération n405\n",
      "Génération n406\n",
      "Génération n407\n",
      "Génération n408\n",
      "Génération n409\n",
      "Génération n410\n",
      "Génération n411\n",
      "Génération n412\n",
      "Génération n413\n",
      "Génération n414\n",
      "Génération n415\n",
      "Génération n416\n",
      "Génération n417\n",
      "Génération n418\n",
      "Génération n419\n",
      "Génération n420\n",
      "Génération n421\n",
      "Génération n422\n",
      "Génération n423\n",
      "Génération n424\n",
      "Génération n425\n",
      "Génération n426\n",
      "Génération n427\n",
      "Génération n428\n",
      "Génération n429\n",
      "Génération n430\n",
      "Génération n431\n",
      "Génération n432\n",
      "Génération n433\n",
      "Génération n434\n",
      "Génération n435\n",
      "Génération n436\n",
      "Génération n437\n",
      "Génération n438\n",
      "Génération n439\n",
      "Génération n440\n",
      "Génération n441\n",
      "Génération n442\n",
      "Génération n443\n",
      "Génération n444\n",
      "Génération n445\n",
      "Génération n446\n",
      "Génération n447\n",
      "Génération n448\n",
      "Génération n449\n",
      "Génération n450\n",
      "Génération n451\n",
      "Génération n452\n",
      "Génération n453\n",
      "Génération n454\n",
      "Génération n455\n",
      "Génération n456\n",
      "Génération n457\n",
      "Génération n458\n",
      "Génération n459\n",
      "Génération n460\n",
      "Génération n461\n",
      "Génération n462\n",
      "Génération n463\n",
      "Génération n464\n",
      "Génération n465\n",
      "Génération n466\n",
      "Génération n467\n",
      "Génération n468\n",
      "Génération n469\n",
      "Génération n470\n",
      "Génération n471\n",
      "Génération n472\n",
      "Génération n473\n",
      "Génération n474\n",
      "Génération n475\n",
      "Génération n476\n",
      "Génération n477\n",
      "Génération n478\n",
      "Génération n479\n",
      "Génération n480\n",
      "Génération n481\n",
      "Génération n482\n",
      "Génération n483\n",
      "Génération n484\n",
      "Génération n485\n",
      "Génération n486\n",
      "Génération n487\n",
      "Génération n488\n",
      "Génération n489\n",
      "Génération n490\n",
      "Génération n491\n",
      "Génération n492\n",
      "Génération n493\n",
      "Génération n494\n",
      "Génération n495\n",
      "Génération n496\n",
      "Génération n497\n",
      "Génération n498\n",
      "Génération n499\n",
      "Génération n500\n"
     ]
    },
    {
     "data": {
      "image/png": "[encoded data removed]",
      "text/plain": [
       "<Figure size 640x480 with 1 Axes>"
      ]
     },
     "metadata": {},
     "output_type": "display_data"
    }
   ],
   "source": [
    "geneticAlgorithmPlot(population=pointsL, popSize=100, eliteSize=20, mutationRate=0.01, generations=500)"
   ]
  },
  {
   "cell_type": "markdown",
   "id": "963c7b66",
   "metadata": {
    "id": "d13272d8-7cf6-45d6-9b90-b385075010c0",
    "papermill": {
     "duration": 0.0224,
     "end_time": "2025-03-18T12:19:15.219997",
     "exception": false,
     "start_time": "2025-03-18T12:19:15.197597",
     "status": "completed"
    },
    "tags": []
   },
   "source": [
    "# Partie 3 : SMA collaboratif/non collaboratif"
   ]
  },
  {
   "cell_type": "markdown",
   "id": "d4486808",
   "metadata": {
    "id": "c4f4356a-17c3-45e0-9adf-0fb9e8146f40",
    "papermill": {
     "duration": 0.023494,
     "end_time": "2025-03-18T12:19:15.265906",
     "exception": false,
     "start_time": "2025-03-18T12:19:15.242412",
     "status": "completed"
    },
    "tags": []
   },
   "source": [
    "L'objectif de cette partie est de comparer la performance d'algorithmes génétiques non collaboratifs contre les algorithmes génétiques collaboratifs. Pour ce faire, nous allons créer un système multi-agent composé uniquement d'agents ayant un comportement optimisateur basé sur l'algorithme génétique que nous avons développé précédemment pour résoudre le PVC. Un agent mesa aura un attribut collaboratif égal à True s'il est collaboratif et False s'il ne l'est pas. Il aura également un attribut best égal à la distance minimale atteinte."
   ]
  },
  {
   "cell_type": "markdown",
   "id": "d7fc324a",
   "metadata": {
    "id": "31e9c1d0-ece7-4cb9-a64d-821ccaa3054c",
    "papermill": {
     "duration": 0.022275,
     "end_time": "2025-03-18T12:19:15.310484",
     "exception": false,
     "start_time": "2025-03-18T12:19:15.288209",
     "status": "completed"
    },
    "tags": []
   },
   "source": [
    "20. Créez un modèle mesa construit avec :\n",
    "* la liste des points à visiter : listeP\n",
    "* le nombre total d'agents du système : N (N/2 agents collaboratifs + N/2 agents non collaboratifs)\n",
    "* la taille de la population : popSize\n",
    "* le nombre d'élites à récupérer pour la prochaine génération : eliteSize\n",
    "* le taux de mutation : mutationRate"
   ]
  },
  {
   "cell_type": "code",
   "execution_count": 28,
   "id": "1f7d90c6",
   "metadata": {
    "execution": {
     "iopub.execute_input": "2025-03-18T12:19:15.357972Z",
     "iopub.status.busy": "2025-03-18T12:19:15.357545Z",
     "iopub.status.idle": "2025-03-18T12:19:26.433169Z",
     "shell.execute_reply": "2025-03-18T12:19:26.431849Z"
    },
    "id": "3c5e0862-337e-4cd1-9964-3c508b1d5441",
    "outputId": "c2a002d1-84e9-4d7e-9600-9acea8cdfdb0",
    "papermill": {
     "duration": 11.100746,
     "end_time": "2025-03-18T12:19:26.434798",
     "exception": false,
     "start_time": "2025-03-18T12:19:15.334052",
     "status": "completed"
    },
    "tags": []
   },
   "outputs": [
    {
     "name": "stdout",
     "output_type": "stream",
     "text": [
      "Collecting mesa==2.1.0\r\n",
      "  Downloading Mesa-2.1-py3-none-any.whl.metadata (7.4 kB)\r\n",
      "Requirement already satisfied: click in /usr/local/lib/python3.10/dist-packages (from mesa==2.1.0) (8.1.7)\r\n",
      "Collecting cookiecutter (from mesa==2.1.0)\r\n",
      "  Downloading cookiecutter-2.6.0-py3-none-any.whl.metadata (7.3 kB)\r\n",
      "Requirement already satisfied: networkx in /usr/local/lib/python3.10/dist-packages (from mesa==2.1.0) (3.4.2)\r\n",
      "Requirement already satisfied: numpy in /usr/local/lib/python3.10/dist-packages (from mesa==2.1.0) (1.26.4)\r\n",
      "Requirement already satisfied: pandas in /usr/local/lib/python3.10/dist-packages (from mesa==2.1.0) (2.2.3)\r\n",
      "Collecting solara (from mesa==2.1.0)\r\n",
      "  Downloading solara-1.44.1-py2.py3-none-any.whl.metadata (10 kB)\r\n",
      "Requirement already satisfied: tornado in /usr/local/lib/python3.10/dist-packages (from mesa==2.1.0) (6.3.3)\r\n",
      "Requirement already satisfied: tqdm in /usr/local/lib/python3.10/dist-packages (from mesa==2.1.0) (4.67.1)\r\n",
      "Collecting binaryornot>=0.4.4 (from cookiecutter->mesa==2.1.0)\r\n",
      "  Downloading binaryornot-0.4.4-py2.py3-none-any.whl.metadata (6.0 kB)\r\n",
      "Requirement already satisfied: Jinja2<4.0.0,>=2.7 in /usr/local/lib/python3.10/dist-packages (from cookiecutter->mesa==2.1.0) (3.1.4)\r\n",
      "Requirement already satisfied: pyyaml>=5.3.1 in /usr/local/lib/python3.10/dist-packages (from cookiecutter->mesa==2.1.0) (6.0.2)\r\n",
      "Requirement already satisfied: python-slugify>=4.0.0 in /usr/local/lib/python3.10/dist-packages (from cookiecutter->mesa==2.1.0) (8.0.4)\r\n",
      "Requirement already satisfied: requests>=2.23.0 in /usr/local/lib/python3.10/dist-packages (from cookiecutter->mesa==2.1.0) (2.32.3)\r\n",
      "Requirement already satisfied: arrow in /usr/local/lib/python3.10/dist-packages (from cookiecutter->mesa==2.1.0) (1.3.0)\r\n",
      "Requirement already satisfied: rich in /usr/local/lib/python3.10/dist-packages (from cookiecutter->mesa==2.1.0) (13.9.4)\r\n",
      "Requirement already satisfied: mkl_fft in /usr/local/lib/python3.10/dist-packages (from numpy->mesa==2.1.0) (1.3.8)\r\n",
      "Requirement already satisfied: mkl_random in /usr/local/lib/python3.10/dist-packages (from numpy->mesa==2.1.0) (1.2.4)\r\n",
      "Requirement already satisfied: mkl_umath in /usr/local/lib/python3.10/dist-packages (from numpy->mesa==2.1.0) (0.1.1)\r\n",
      "Requirement already satisfied: mkl in /usr/local/lib/python3.10/dist-packages (from numpy->mesa==2.1.0) (2025.0.1)\r\n",
      "Requirement already satisfied: tbb4py in /usr/local/lib/python3.10/dist-packages (from numpy->mesa==2.1.0) (2022.0.0)\r\n",
      "Requirement already satisfied: mkl-service in /usr/local/lib/python3.10/dist-packages (from numpy->mesa==2.1.0) (2.4.1)\r\n",
      "Requirement already satisfied: python-dateutil>=2.8.2 in /usr/local/lib/python3.10/dist-packages (from pandas->mesa==2.1.0) (2.9.0.post0)\r\n",
      "Requirement already satisfied: pytz>=2020.1 in /usr/local/lib/python3.10/dist-packages (from pandas->mesa==2.1.0) (2025.1)\r\n",
      "Requirement already satisfied: tzdata>=2022.7 in /usr/local/lib/python3.10/dist-packages (from pandas->mesa==2.1.0) (2025.1)\r\n",
      "Collecting solara-server==1.44.1 (from solara-server[dev,starlette]==1.44.1->solara->mesa==2.1.0)\r\n",
      "  Downloading solara_server-1.44.1-py2.py3-none-any.whl.metadata (2.9 kB)\r\n",
      "Collecting solara-ui==1.44.1 (from solara-ui[all]==1.44.1->solara->mesa==2.1.0)\r\n",
      "  Downloading solara_ui-1.44.1-py2.py3-none-any.whl.metadata (7.4 kB)\r\n",
      "Requirement already satisfied: filelock in /usr/local/lib/python3.10/dist-packages (from solara-server==1.44.1->solara-server[dev,starlette]==1.44.1->solara->mesa==2.1.0) (3.17.0)\r\n",
      "Requirement already satisfied: ipykernel in /usr/local/lib/python3.10/dist-packages (from solara-server==1.44.1->solara-server[dev,starlette]==1.44.1->solara->mesa==2.1.0) (5.5.6)\r\n",
      "Requirement already satisfied: jupyter-client in /usr/local/lib/python3.10/dist-packages (from solara-server==1.44.1->solara-server[dev,starlette]==1.44.1->solara->mesa==2.1.0) (8.6.3)\r\n",
      "Requirement already satisfied: nbformat in /usr/local/lib/python3.10/dist-packages (from solara-server==1.44.1->solara-server[dev,starlette]==1.44.1->solara->mesa==2.1.0) (5.10.4)\r\n",
      "Collecting rich-click (from solara-server==1.44.1->solara-server[dev,starlette]==1.44.1->solara->mesa==2.1.0)\r\n",
      "  Downloading rich_click-1.8.8-py3-none-any.whl.metadata (7.9 kB)\r\n",
      "Collecting starlette (from solara-server[dev,starlette]==1.44.1->solara->mesa==2.1.0)\r\n",
      "  Downloading starlette-0.46.1-py3-none-any.whl.metadata (6.2 kB)\r\n",
      "Collecting uvicorn (from solara-server[dev,starlette]==1.44.1->solara->mesa==2.1.0)\r\n",
      "  Downloading uvicorn-0.34.0-py3-none-any.whl.metadata (6.5 kB)\r\n",
      "Requirement already satisfied: websockets in /usr/local/lib/python3.10/dist-packages (from solara-server[dev,starlette]==1.44.1->solara->mesa==2.1.0) (14.1)\r\n",
      "Requirement already satisfied: watchdog in /usr/local/lib/python3.10/dist-packages (from solara-server[dev,starlette]==1.44.1->solara->mesa==2.1.0) (6.0.0)\r\n",
      "Collecting watchfiles (from solara-server[dev,starlette]==1.44.1->solara->mesa==2.1.0)\r\n",
      "  Downloading watchfiles-1.0.4-cp310-cp310-manylinux_2_17_x86_64.manylinux2014_x86_64.whl.metadata (4.9 kB)\r\n",
      "Requirement already satisfied: humanize in /usr/local/lib/python3.10/dist-packages (from solara-ui==1.44.1->solara-ui[all]==1.44.1->solara->mesa==2.1.0) (4.11.0)\r\n",
      "Collecting ipyvue>=1.9.0 (from solara-ui==1.44.1->solara-ui[all]==1.44.1->solara->mesa==2.1.0)\r\n",
      "  Downloading ipyvue-1.11.2-py2.py3-none-any.whl.metadata (1.1 kB)\r\n",
      "Collecting ipyvuetify>=1.6.10 (from solara-ui==1.44.1->solara-ui[all]==1.44.1->solara->mesa==2.1.0)\r\n",
      "  Downloading ipyvuetify-1.11.1-py2.py3-none-any.whl.metadata (7.5 kB)\r\n",
      "Requirement already satisfied: ipywidgets>=7.7 in /usr/local/lib/python3.10/dist-packages (from solara-ui==1.44.1->solara-ui[all]==1.44.1->solara->mesa==2.1.0) (8.1.5)\r\n",
      "Collecting reacton>=1.9 (from solara-ui==1.44.1->solara-ui[all]==1.44.1->solara->mesa==2.1.0)\r\n",
      "  Downloading reacton-1.9.1-py2.py3-none-any.whl.metadata (3.1 kB)\r\n",
      "Requirement already satisfied: cachetools in /usr/local/lib/python3.10/dist-packages (from solara-ui[all]==1.44.1->solara->mesa==2.1.0) (5.5.0)\r\n",
      "Requirement already satisfied: markdown in /usr/local/lib/python3.10/dist-packages (from solara-ui[all]==1.44.1->solara->mesa==2.1.0) (3.7)\r\n",
      "Requirement already satisfied: pillow in /usr/local/lib/python3.10/dist-packages (from solara-ui[all]==1.44.1->solara->mesa==2.1.0) (11.0.0)\r\n",
      "Requirement already satisfied: pygments in /usr/local/lib/python3.10/dist-packages (from solara-ui[all]==1.44.1->solara->mesa==2.1.0) (2.19.1)\r\n",
      "Collecting pymdown-extensions (from solara-ui[all]==1.44.1->solara->mesa==2.1.0)\r\n",
      "  Downloading pymdown_extensions-10.14.3-py3-none-any.whl.metadata (3.0 kB)\r\n",
      "Requirement already satisfied: chardet>=3.0.2 in /usr/local/lib/python3.10/dist-packages (from binaryornot>=0.4.4->cookiecutter->mesa==2.1.0) (5.2.0)\r\n",
      "Requirement already satisfied: MarkupSafe>=2.0 in /usr/local/lib/python3.10/dist-packages (from Jinja2<4.0.0,>=2.7->cookiecutter->mesa==2.1.0) (3.0.2)\r\n",
      "Requirement already satisfied: six>=1.5 in /usr/local/lib/python3.10/dist-packages (from python-dateutil>=2.8.2->pandas->mesa==2.1.0) (1.17.0)\r\n",
      "Requirement already satisfied: text-unidecode>=1.3 in /usr/local/lib/python3.10/dist-packages (from python-slugify>=4.0.0->cookiecutter->mesa==2.1.0) (1.3)\r\n",
      "Requirement already satisfied: charset-normalizer<4,>=2 in /usr/local/lib/python3.10/dist-packages (from requests>=2.23.0->cookiecutter->mesa==2.1.0) (3.4.1)\r\n",
      "Requirement already satisfied: idna<4,>=2.5 in /usr/local/lib/python3.10/dist-packages (from requests>=2.23.0->cookiecutter->mesa==2.1.0) (3.10)\r\n",
      "Requirement already satisfied: urllib3<3,>=1.21.1 in /usr/local/lib/python3.10/dist-packages (from requests>=2.23.0->cookiecutter->mesa==2.1.0) (2.3.0)\r\n",
      "Requirement already satisfied: certifi>=2017.4.17 in /usr/local/lib/python3.10/dist-packages (from requests>=2.23.0->cookiecutter->mesa==2.1.0) (2025.1.31)\r\n",
      "Requirement already satisfied: types-python-dateutil>=2.8.10 in /usr/local/lib/python3.10/dist-packages (from arrow->cookiecutter->mesa==2.1.0) (2.9.0.20241206)\r\n",
      "Requirement already satisfied: intel-openmp>=2024 in /usr/local/lib/python3.10/dist-packages (from mkl->numpy->mesa==2.1.0) (2024.2.0)\r\n",
      "Requirement already satisfied: tbb==2022.* in /usr/local/lib/python3.10/dist-packages (from mkl->numpy->mesa==2.1.0) (2022.0.0)\r\n",
      "Requirement already satisfied: tcmlib==1.* in /usr/local/lib/python3.10/dist-packages (from tbb==2022.*->mkl->numpy->mesa==2.1.0) (1.2.0)\r\n",
      "Requirement already satisfied: intel-cmplr-lib-rt in /usr/local/lib/python3.10/dist-packages (from mkl_umath->numpy->mesa==2.1.0) (2024.2.0)\r\n",
      "Requirement already satisfied: markdown-it-py>=2.2.0 in /usr/local/lib/python3.10/dist-packages (from rich->cookiecutter->mesa==2.1.0) (3.0.0)\r\n",
      "Requirement already satisfied: typing-extensions<5.0,>=4.0.0 in /usr/local/lib/python3.10/dist-packages (from rich->cookiecutter->mesa==2.1.0) (4.12.2)\r\n",
      "Requirement already satisfied: intel-cmplr-lib-ur==2024.2.0 in /usr/local/lib/python3.10/dist-packages (from intel-openmp>=2024->mkl->numpy->mesa==2.1.0) (2024.2.0)\r\n",
      "Requirement already satisfied: comm>=0.1.3 in /usr/local/lib/python3.10/dist-packages (from ipywidgets>=7.7->solara-ui==1.44.1->solara-ui[all]==1.44.1->solara->mesa==2.1.0) (0.2.2)\r\n",
      "Requirement already satisfied: ipython>=6.1.0 in /usr/local/lib/python3.10/dist-packages (from ipywidgets>=7.7->solara-ui==1.44.1->solara-ui[all]==1.44.1->solara->mesa==2.1.0) (7.34.0)\r\n",
      "Requirement already satisfied: traitlets>=4.3.1 in /usr/local/lib/python3.10/dist-packages (from ipywidgets>=7.7->solara-ui==1.44.1->solara-ui[all]==1.44.1->solara->mesa==2.1.0) (5.7.1)\r\n",
      "Requirement already satisfied: widgetsnbextension~=4.0.12 in /usr/local/lib/python3.10/dist-packages (from ipywidgets>=7.7->solara-ui==1.44.1->solara-ui[all]==1.44.1->solara->mesa==2.1.0) (4.0.13)\r\n",
      "Requirement already satisfied: jupyterlab-widgets~=3.0.12 in /usr/local/lib/python3.10/dist-packages (from ipywidgets>=7.7->solara-ui==1.44.1->solara-ui[all]==1.44.1->solara->mesa==2.1.0) (3.0.13)\r\n",
      "Requirement already satisfied: mdurl~=0.1 in /usr/local/lib/python3.10/dist-packages (from markdown-it-py>=2.2.0->rich->cookiecutter->mesa==2.1.0) (0.1.2)\r\n",
      "Requirement already satisfied: ipython-genutils in /usr/local/lib/python3.10/dist-packages (from ipykernel->solara-server==1.44.1->solara-server[dev,starlette]==1.44.1->solara->mesa==2.1.0) (0.2.0)\r\n",
      "Requirement already satisfied: jupyter-core!=5.0.*,>=4.12 in /usr/local/lib/python3.10/dist-packages (from jupyter-client->solara-server==1.44.1->solara-server[dev,starlette]==1.44.1->solara->mesa==2.1.0) (5.7.2)\r\n",
      "Requirement already satisfied: pyzmq>=23.0 in /usr/local/lib/python3.10/dist-packages (from jupyter-client->solara-server==1.44.1->solara-server[dev,starlette]==1.44.1->solara->mesa==2.1.0) (24.0.1)\r\n",
      "Requirement already satisfied: fastjsonschema>=2.15 in /usr/local/lib/python3.10/dist-packages (from nbformat->solara-server==1.44.1->solara-server[dev,starlette]==1.44.1->solara->mesa==2.1.0) (2.21.1)\r\n",
      "Requirement already satisfied: jsonschema>=2.6 in /usr/local/lib/python3.10/dist-packages (from nbformat->solara-server==1.44.1->solara-server[dev,starlette]==1.44.1->solara->mesa==2.1.0) (4.23.0)\r\n",
      "Requirement already satisfied: anyio<5,>=3.6.2 in /usr/local/lib/python3.10/dist-packages (from starlette->solara-server[dev,starlette]==1.44.1->solara->mesa==2.1.0) (3.7.1)\r\n",
      "Requirement already satisfied: h11>=0.8 in /usr/local/lib/python3.10/dist-packages (from uvicorn->solara-server[dev,starlette]==1.44.1->solara->mesa==2.1.0) (0.14.0)\r\n",
      "Requirement already satisfied: sniffio>=1.1 in /usr/local/lib/python3.10/dist-packages (from anyio<5,>=3.6.2->starlette->solara-server[dev,starlette]==1.44.1->solara->mesa==2.1.0) (1.3.1)\r\n",
      "Requirement already satisfied: exceptiongroup in /usr/local/lib/python3.10/dist-packages (from anyio<5,>=3.6.2->starlette->solara-server[dev,starlette]==1.44.1->solara->mesa==2.1.0) (1.2.2)\r\n",
      "Requirement already satisfied: setuptools>=18.5 in /usr/local/lib/python3.10/dist-packages (from ipython>=6.1.0->ipywidgets>=7.7->solara-ui==1.44.1->solara-ui[all]==1.44.1->solara->mesa==2.1.0) (75.1.0)\r\n",
      "Requirement already satisfied: jedi>=0.16 in /usr/local/lib/python3.10/dist-packages (from ipython>=6.1.0->ipywidgets>=7.7->solara-ui==1.44.1->solara-ui[all]==1.44.1->solara->mesa==2.1.0) (0.19.2)\r\n",
      "Requirement already satisfied: decorator in /usr/local/lib/python3.10/dist-packages (from ipython>=6.1.0->ipywidgets>=7.7->solara-ui==1.44.1->solara-ui[all]==1.44.1->solara->mesa==2.1.0) (4.4.2)\r\n",
      "Requirement already satisfied: pickleshare in /usr/local/lib/python3.10/dist-packages (from ipython>=6.1.0->ipywidgets>=7.7->solara-ui==1.44.1->solara-ui[all]==1.44.1->solara->mesa==2.1.0) (0.7.5)\r\n",
      "Requirement already satisfied: prompt-toolkit!=3.0.0,!=3.0.1,<3.1.0,>=2.0.0 in /usr/local/lib/python3.10/dist-packages (from ipython>=6.1.0->ipywidgets>=7.7->solara-ui==1.44.1->solara-ui[all]==1.44.1->solara->mesa==2.1.0) (3.0.48)\r\n",
      "Requirement already satisfied: backcall in /usr/local/lib/python3.10/dist-packages (from ipython>=6.1.0->ipywidgets>=7.7->solara-ui==1.44.1->solara-ui[all]==1.44.1->solara->mesa==2.1.0) (0.2.0)\r\n",
      "Requirement already satisfied: matplotlib-inline in /usr/local/lib/python3.10/dist-packages (from ipython>=6.1.0->ipywidgets>=7.7->solara-ui==1.44.1->solara-ui[all]==1.44.1->solara->mesa==2.1.0) (0.1.7)\r\n",
      "Requirement already satisfied: pexpect>4.3 in /usr/local/lib/python3.10/dist-packages (from ipython>=6.1.0->ipywidgets>=7.7->solara-ui==1.44.1->solara-ui[all]==1.44.1->solara->mesa==2.1.0) (4.9.0)\r\n",
      "Requirement already satisfied: attrs>=22.2.0 in /usr/local/lib/python3.10/dist-packages (from jsonschema>=2.6->nbformat->solara-server==1.44.1->solara-server[dev,starlette]==1.44.1->solara->mesa==2.1.0) (25.1.0)\r\n",
      "Requirement already satisfied: jsonschema-specifications>=2023.03.6 in /usr/local/lib/python3.10/dist-packages (from jsonschema>=2.6->nbformat->solara-server==1.44.1->solara-server[dev,starlette]==1.44.1->solara->mesa==2.1.0) (2024.10.1)\r\n",
      "Requirement already satisfied: referencing>=0.28.4 in /usr/local/lib/python3.10/dist-packages (from jsonschema>=2.6->nbformat->solara-server==1.44.1->solara-server[dev,starlette]==1.44.1->solara->mesa==2.1.0) (0.35.1)\r\n",
      "Requirement already satisfied: rpds-py>=0.7.1 in /usr/local/lib/python3.10/dist-packages (from jsonschema>=2.6->nbformat->solara-server==1.44.1->solara-server[dev,starlette]==1.44.1->solara->mesa==2.1.0) (0.22.3)\r\n",
      "Requirement already satisfied: platformdirs>=2.5 in /usr/local/lib/python3.10/dist-packages (from jupyter-core!=5.0.*,>=4.12->jupyter-client->solara-server==1.44.1->solara-server[dev,starlette]==1.44.1->solara->mesa==2.1.0) (4.3.6)\r\n",
      "Requirement already satisfied: parso<0.9.0,>=0.8.4 in /usr/local/lib/python3.10/dist-packages (from jedi>=0.16->ipython>=6.1.0->ipywidgets>=7.7->solara-ui==1.44.1->solara-ui[all]==1.44.1->solara->mesa==2.1.0) (0.8.4)\r\n",
      "Requirement already satisfied: ptyprocess>=0.5 in /usr/local/lib/python3.10/dist-packages (from pexpect>4.3->ipython>=6.1.0->ipywidgets>=7.7->solara-ui==1.44.1->solara-ui[all]==1.44.1->solara->mesa==2.1.0) (0.7.0)\r\n",
      "Requirement already satisfied: wcwidth in /usr/local/lib/python3.10/dist-packages (from prompt-toolkit!=3.0.0,!=3.0.1,<3.1.0,>=2.0.0->ipython>=6.1.0->ipywidgets>=7.7->solara-ui==1.44.1->solara-ui[all]==1.44.1->solara->mesa==2.1.0) (0.2.13)\r\n",
      "Downloading Mesa-2.1-py3-none-any.whl (1.8 MB)\r\n",
      "\u001b[2K   \u001b[90m━━━━━━━━━━━━━━━━━━━━━━━━━━━━━━━━━━━━━━━━\u001b[0m \u001b[32m1.8/1.8 MB\u001b[0m \u001b[31m7.5 MB/s\u001b[0m eta \u001b[36m0:00:00\u001b[0m\r\n",
      "\u001b[?25hDownloading cookiecutter-2.6.0-py3-none-any.whl (39 kB)\r\n",
      "Downloading solara-1.44.1-py2.py3-none-any.whl (5.9 kB)\r\n",
      "Downloading solara_server-1.44.1-py2.py3-none-any.whl (3.9 kB)\r\n",
      "Downloading solara_ui-1.44.1-py2.py3-none-any.whl (1.3 MB)\r\n",
      "\u001b[2K   \u001b[90m━━━━━━━━━━━━━━━━━━━━━━━━━━━━━━━━━━━━━━━━\u001b[0m \u001b[32m1.3/1.3 MB\u001b[0m \u001b[31m47.4 MB/s\u001b[0m eta \u001b[36m0:00:00\u001b[0m\r\n",
      "\u001b[?25hDownloading binaryornot-0.4.4-py2.py3-none-any.whl (9.0 kB)\r\n",
      "Downloading ipyvue-1.11.2-py2.py3-none-any.whl (2.7 MB)\r\n",
      "\u001b[2K   \u001b[90m━━━━━━━━━━━━━━━━━━━━━━━━━━━━━━━━━━━━━━━━\u001b[0m \u001b[32m2.7/2.7 MB\u001b[0m \u001b[31m63.2 MB/s\u001b[0m eta \u001b[36m0:00:00\u001b[0m\r\n",
      "\u001b[?25hDownloading ipyvuetify-1.11.1-py2.py3-none-any.whl (7.7 MB)\r\n",
      "\u001b[2K   \u001b[90m━━━━━━━━━━━━━━━━━━━━━━━━━━━━━━━━━━━━━━━━\u001b[0m \u001b[32m7.7/7.7 MB\u001b[0m \u001b[31m74.7 MB/s\u001b[0m eta \u001b[36m0:00:00\u001b[0m\r\n",
      "\u001b[?25hDownloading reacton-1.9.1-py2.py3-none-any.whl (108 kB)\r\n",
      "\u001b[2K   \u001b[90m━━━━━━━━━━━━━━━━━━━━━━━━━━━━━━━━━━━━━━━━\u001b[0m \u001b[32m108.8/108.8 kB\u001b[0m \u001b[31m4.4 MB/s\u001b[0m eta \u001b[36m0:00:00\u001b[0m\r\n",
      "\u001b[?25hDownloading pymdown_extensions-10.14.3-py3-none-any.whl (264 kB)\r\n",
      "\u001b[2K   \u001b[90m━━━━━━━━━━━━━━━━━━━━━━━━━━━━━━━━━━━━━━━━\u001b[0m \u001b[32m264.5/264.5 kB\u001b[0m \u001b[31m14.2 MB/s\u001b[0m eta \u001b[36m0:00:00\u001b[0m\r\n",
      "\u001b[?25hDownloading rich_click-1.8.8-py3-none-any.whl (35 kB)\r\n",
      "Downloading starlette-0.46.1-py3-none-any.whl (71 kB)\r\n",
      "\u001b[2K   \u001b[90m━━━━━━━━━━━━━━━━━━━━━━━━━━━━━━━━━━━━━━━━\u001b[0m \u001b[32m72.0/72.0 kB\u001b[0m \u001b[31m3.8 MB/s\u001b[0m eta \u001b[36m0:00:00\u001b[0m\r\n",
      "\u001b[?25hDownloading uvicorn-0.34.0-py3-none-any.whl (62 kB)\r\n",
      "\u001b[2K   \u001b[90m━━━━━━━━━━━━━━━━━━━━━━━━━━━━━━━━━━━━━━━━\u001b[0m \u001b[32m62.3/62.3 kB\u001b[0m \u001b[31m3.6 MB/s\u001b[0m eta \u001b[36m0:00:00\u001b[0m\r\n",
      "\u001b[?25hDownloading watchfiles-1.0.4-cp310-cp310-manylinux_2_17_x86_64.manylinux2014_x86_64.whl (452 kB)\r\n",
      "\u001b[2K   \u001b[90m━━━━━━━━━━━━━━━━━━━━━━━━━━━━━━━━━━━━━━━━\u001b[0m \u001b[32m452.9/452.9 kB\u001b[0m \u001b[31m21.9 MB/s\u001b[0m eta \u001b[36m0:00:00\u001b[0m\r\n",
      "\u001b[?25hInstalling collected packages: uvicorn, pymdown-extensions, binaryornot, watchfiles, starlette, rich-click, cookiecutter, reacton, ipyvue, ipyvuetify, solara-ui, solara-server, solara, mesa\r\n",
      "Successfully installed binaryornot-0.4.4 cookiecutter-2.6.0 ipyvue-1.11.2 ipyvuetify-1.11.1 mesa-2.1 pymdown-extensions-10.14.3 reacton-1.9.1 rich-click-1.8.8 solara-1.44.1 solara-server-1.44.1 solara-ui-1.44.1 starlette-0.46.1 uvicorn-0.34.0 watchfiles-1.0.4\r\n",
      "Note: you may need to restart the kernel to use updated packages.\n"
     ]
    }
   ],
   "source": [
    "pip install mesa==2.1.0"
   ]
  },
  {
   "cell_type": "markdown",
   "id": "1fc5dea0",
   "metadata": {
    "id": "ffd6cecc-4a9c-4c87-a1e6-645b53aeda06",
    "papermill": {
     "duration": 0.025252,
     "end_time": "2025-03-18T12:19:26.485707",
     "exception": false,
     "start_time": "2025-03-18T12:19:26.460455",
     "status": "completed"
    },
    "tags": []
   },
   "source": [
    "Ajoutez au modèle un DataCollector permettant de collecter la distance minimlale atteinte par chaque agent optimisateur."
   ]
  },
  {
   "cell_type": "markdown",
   "id": "577902d1",
   "metadata": {
    "id": "33348eb8-aa04-4829-af5f-3f4fd2cba5c4",
    "papermill": {
     "duration": 0.025314,
     "end_time": "2025-03-18T12:19:26.536682",
     "exception": false,
     "start_time": "2025-03-18T12:19:26.511368",
     "status": "completed"
    },
    "tags": []
   },
   "source": [
    "21. Créez maintenant un agent mesa ayant un comportement optimisateur basé sur l'algorithme génétique que nous avons développé précédemment pour résoudre le PVC. Conseil : Commencez par une version du SMA contenant uniquement des agents non collaboratifs."
   ]
  },
  {
   "cell_type": "markdown",
   "id": "87695797",
   "metadata": {
    "id": "babbc270-c83e-415e-9d6f-c419caa3fb4a",
    "papermill": {
     "duration": 0.025349,
     "end_time": "2025-03-18T12:19:26.588958",
     "exception": false,
     "start_time": "2025-03-18T12:19:26.563609",
     "status": "completed"
    },
    "tags": []
   },
   "source": [
    "Un agent est construit avec :\n",
    "* pop : sa population initiale créée avec la fonction développée précédemment __**initialPopulation**__\n",
    "* best : la meilleure distance atteinte calculée avec 1 / rankIts(self.pop)[0][1]\n",
    "* collaboratif : True si l'agent est collaboratif et False s'il ne l'est pas"
   ]
  },
  {
   "cell_type": "markdown",
   "id": "33c298b8",
   "metadata": {
    "id": "034c6ff0-5e01-4bf7-84ba-932182eab1f7",
    "papermill": {
     "duration": 0.02484,
     "end_time": "2025-03-18T12:19:26.639734",
     "exception": false,
     "start_time": "2025-03-18T12:19:26.614894",
     "status": "completed"
    },
    "tags": []
   },
   "source": [
    "Plusieurs sciénarios/protocoles sont possibles.\n",
    "Nous choisissons le scénario suivant :\n",
    "Si l'agent n'est pas collaboratif, il va juste passer à la génération suivante à l'instant t+1 et mettre à jour son attribut best. S'il est collaboratif, il va en plus contacter tous les autres agents du système à la recherche d'une meilleure performance que lui. S'il trouve, il remplace son meilleur élément (chromosome) avec le chromosome qu'il a trouvé et qui donne une meilleure performance que lui."
   ]
  },
  {
   "cell_type": "markdown",
   "id": "b6bb72c2",
   "metadata": {
    "id": "f7fae0a4-b75a-415d-b731-fca7050b0920",
    "papermill": {
     "duration": 0.024768,
     "end_time": "2025-03-18T12:19:26.689691",
     "exception": false,
     "start_time": "2025-03-18T12:19:26.664923",
     "status": "completed"
    },
    "tags": []
   },
   "source": [
    "22. Créez le programme principal permettant de résoudre le PVC avec un SMA collaboratif/non collaboratif en compatent les 2 modes (sur 500 générations). La comparaison doit se faire graphiquement. Il faut donc afficher l'évolution de la distance en fonction du temps pour chaque agent."
   ]
  },
  {
   "cell_type": "markdown",
   "id": "3d4785a1",
   "metadata": {
    "id": "3a15fa96-a31e-4905-94d6-69314eb3217e",
    "papermill": {
     "duration": 0.024723,
     "end_time": "2025-03-18T12:19:26.739354",
     "exception": false,
     "start_time": "2025-03-18T12:19:26.714631",
     "status": "completed"
    },
    "tags": []
   },
   "source": [
    "Le résultat du DataCollector (dataframe) __** agent_state = model.datacollector.get_agent_vars_dataframe() **__ devait ressembler  à :"
   ]
  },
  {
   "cell_type": "markdown",
   "id": "891daf02",
   "metadata": {
    "id": "95d0b397-e3a7-4c47-8382-9fc788058191",
    "papermill": {
     "duration": 0.024937,
     "end_time": "2025-03-18T12:19:26.789293",
     "exception": false,
     "start_time": "2025-03-18T12:19:26.764356",
     "status": "completed"
    },
    "tags": []
   },
   "source": [
    "![Capture d’écran 2024-03-08 à 18.08.28.png](attachment:313686c5-f7f0-4beb-8482-0cd44beb4f14.png)"
   ]
  },
  {
   "cell_type": "markdown",
   "id": "223d406d",
   "metadata": {
    "id": "f2209c3e-d8a2-44f5-a02c-bfbc365f2da6",
    "papermill": {
     "duration": 0.025031,
     "end_time": "2025-03-18T12:19:26.839550",
     "exception": false,
     "start_time": "2025-03-18T12:19:26.814519",
     "status": "completed"
    },
    "tags": []
   },
   "source": [
    "Pour faciliter la génération du graphique, n'hésitez pas de transformer les lignes AgentID en colonnes en appliquant la fonction unstack() sur la dateframe agent_state :\n",
    "\n",
    "__** res=agent_state.unstack() **__\n"
   ]
  },
  {
   "cell_type": "markdown",
   "id": "f04f2f4a",
   "metadata": {
    "id": "75098c22-d407-4388-85c8-d8539a206f61",
    "papermill": {
     "duration": 0.024904,
     "end_time": "2025-03-18T12:19:26.889871",
     "exception": false,
     "start_time": "2025-03-18T12:19:26.864967",
     "status": "completed"
    },
    "tags": []
   },
   "source": [
    "Le résultat ressemblera à :"
   ]
  },
  {
   "cell_type": "markdown",
   "id": "2d890bff",
   "metadata": {
    "id": "5a98bb15-858c-4153-b902-aaca1a7497a4",
    "papermill": {
     "duration": 0.02472,
     "end_time": "2025-03-18T12:19:26.939933",
     "exception": false,
     "start_time": "2025-03-18T12:19:26.915213",
     "status": "completed"
    },
    "tags": []
   },
   "source": [
    "![Capture d’écran 2024-03-08 à 18.07.12.png](attachment:a4aa9347-0bc5-4dc8-b13a-ce9394d26caa.png)"
   ]
  },
  {
   "cell_type": "markdown",
   "id": "c08770cd",
   "metadata": {
    "id": "828f3449-a2a9-4c96-890e-54a89d746467",
    "papermill": {
     "duration": 0.024828,
     "end_time": "2025-03-18T12:19:26.989783",
     "exception": false,
     "start_time": "2025-03-18T12:19:26.964955",
     "status": "completed"
    },
    "tags": []
   },
   "source": [
    "Ce qui permettra un affichage du graphique comme suit (les agents 0, 1 et 2 ne sont pas collaboratifs et les autres le sont):"
   ]
  },
  {
   "cell_type": "markdown",
   "id": "19784444",
   "metadata": {
    "id": "3444c72c-429f-4dd9-b24e-ce52b6056037",
    "papermill": {
     "duration": 0.0253,
     "end_time": "2025-03-18T12:19:27.040249",
     "exception": false,
     "start_time": "2025-03-18T12:19:27.014949",
     "status": "completed"
    },
    "tags": []
   },
   "source": [
    "![Capture d’écran 2024-03-08 à 18.06.14.png](attachment:e15e79ae-b2e9-4d7f-9b1f-9dace426de8f.png)"
   ]
  },
  {
   "cell_type": "markdown",
   "id": "cd103b35",
   "metadata": {
    "id": "a4ce86e7-52fc-47f8-b1f1-47b84eeb5ee6",
    "papermill": {
     "duration": 0.024509,
     "end_time": "2025-03-18T12:19:27.089834",
     "exception": false,
     "start_time": "2025-03-18T12:19:27.065325",
     "status": "completed"
    },
    "tags": []
   },
   "source": [
    "**<span style=\"color:red\">\n",
    "SOLUTION\n",
    "</span>**"
   ]
  },
  {
   "cell_type": "code",
   "execution_count": null,
   "id": "84001cb7",
   "metadata": {
    "id": "05402ede-8651-4770-b38c-5eb35fee1469",
    "papermill": {
     "duration": 0.024939,
     "end_time": "2025-03-18T12:19:27.140271",
     "exception": false,
     "start_time": "2025-03-18T12:19:27.115332",
     "status": "completed"
    },
    "tags": []
   },
   "outputs": [],
   "source": []
  },
  {
   "cell_type": "markdown",
   "id": "9f9d7520",
   "metadata": {
    "id": "afef33a6-2d6d-4eec-afd2-f361c3248c78",
    "papermill": {
     "duration": 0.024809,
     "end_time": "2025-03-18T12:19:27.190609",
     "exception": false,
     "start_time": "2025-03-18T12:19:27.165800",
     "status": "completed"
    },
    "tags": []
   },
   "source": [
    "# A vous de jouer !"
   ]
  },
  {
   "cell_type": "markdown",
   "id": "f329eede",
   "metadata": {
    "id": "03651533-6962-4229-b966-a1b3cce6362e",
    "papermill": {
     "duration": 0.024879,
     "end_time": "2025-03-18T12:19:27.240809",
     "exception": false,
     "start_time": "2025-03-18T12:19:27.215930",
     "status": "completed"
    },
    "tags": []
   },
   "source": [
    "Proposez maintenant une (ou plusieurs) variante(s) permettant d'améliorer la performance du SMA. Vous pouvez par exemple (et/ou):\n",
    "* modifier le protocole de collaboration,\n",
    "* changer le(s) paramètres(s) : taux de mutation, taille de la population, nombre de générations\n",
    "* changer d'opérateur de mutation, de croisemeetnt\n",
    "* Créer la population initiale avec une heuristique,, etVous pouvez également étudier la performance de votre solution en variant le nombre de pointstc....\n"
   ]
  },
  {
   "cell_type": "markdown",
   "id": "629674bc",
   "metadata": {
    "id": "b97dc25d-0276-4062-8f4b-c1c3548a804d",
    "papermill": {
     "duration": 0.024705,
     "end_time": "2025-03-18T12:19:27.290605",
     "exception": false,
     "start_time": "2025-03-18T12:19:27.265900",
     "status": "completed"
    },
    "tags": []
   },
   "source": [
    "**<span style=\"color:red\">\n",
    "SOLUTION\n",
    "</span>**"
   ]
  },
  {
   "cell_type": "markdown",
   "id": "f73a7ad1",
   "metadata": {
    "id": "72c1b093-b00a-473f-bf3d-899538e06521",
    "papermill": {
     "duration": 0.025632,
     "end_time": "2025-03-18T12:19:27.342450",
     "exception": false,
     "start_time": "2025-03-18T12:19:27.316818",
     "status": "completed"
    },
    "tags": []
   },
   "source": [
    "**ALGO TABOU**"
   ]
  },
  {
   "cell_type": "code",
   "execution_count": 29,
   "id": "8f5a0f32",
   "metadata": {
    "execution": {
     "iopub.execute_input": "2025-03-18T12:19:27.395734Z",
     "iopub.status.busy": "2025-03-18T12:19:27.395328Z",
     "iopub.status.idle": "2025-03-18T12:19:27.509574Z",
     "shell.execute_reply": "2025-03-18T12:19:27.507790Z"
    },
    "id": "17ed47ad-0091-41eb-a01d-7615c8e97b1a",
    "papermill": {
     "duration": 0.142308,
     "end_time": "2025-03-18T12:19:27.511330",
     "exception": true,
     "start_time": "2025-03-18T12:19:27.369022",
     "status": "failed"
    },
    "tags": []
   },
   "outputs": [
    {
     "ename": "NameError",
     "evalue": "name 'Agent' is not defined",
     "output_type": "error",
     "traceback": [
      "\u001b[0;31m---------------------------------------------------------------------------\u001b[0m",
      "\u001b[0;31mNameError\u001b[0m                                 Traceback (most recent call last)",
      "\u001b[0;32m<ipython-input-29-6e621af441fc>\u001b[0m in \u001b[0;36m<cell line: 1>\u001b[0;34m()\u001b[0m\n\u001b[0;32m----> 1\u001b[0;31m \u001b[0;32mclass\u001b[0m \u001b[0mTabuAgent\u001b[0m\u001b[0;34m(\u001b[0m\u001b[0mAgent\u001b[0m\u001b[0;34m)\u001b[0m\u001b[0;34m:\u001b[0m\u001b[0;34m\u001b[0m\u001b[0;34m\u001b[0m\u001b[0m\n\u001b[0m\u001b[1;32m      2\u001b[0m     \u001b[0;32mdef\u001b[0m \u001b[0m__init__\u001b[0m\u001b[0;34m(\u001b[0m\u001b[0mself\u001b[0m\u001b[0;34m,\u001b[0m \u001b[0munique_id\u001b[0m\u001b[0;34m,\u001b[0m \u001b[0mmodel\u001b[0m\u001b[0;34m,\u001b[0m \u001b[0mmax_tabu_size\u001b[0m\u001b[0;34m=\u001b[0m\u001b[0;36m10\u001b[0m\u001b[0;34m,\u001b[0m \u001b[0mcollaboratif\u001b[0m\u001b[0;34m=\u001b[0m\u001b[0;32mTrue\u001b[0m\u001b[0;34m)\u001b[0m\u001b[0;34m:\u001b[0m\u001b[0;34m\u001b[0m\u001b[0;34m\u001b[0m\u001b[0m\n\u001b[1;32m      3\u001b[0m         \u001b[0msuper\u001b[0m\u001b[0;34m(\u001b[0m\u001b[0;34m)\u001b[0m\u001b[0;34m.\u001b[0m\u001b[0m__init__\u001b[0m\u001b[0;34m(\u001b[0m\u001b[0munique_id\u001b[0m\u001b[0;34m,\u001b[0m \u001b[0mmodel\u001b[0m\u001b[0;34m)\u001b[0m\u001b[0;34m\u001b[0m\u001b[0;34m\u001b[0m\u001b[0m\n\u001b[1;32m      4\u001b[0m         \u001b[0mself\u001b[0m\u001b[0;34m.\u001b[0m\u001b[0mpop\u001b[0m \u001b[0;34m=\u001b[0m \u001b[0;34m[\u001b[0m\u001b[0mrandom\u001b[0m\u001b[0;34m.\u001b[0m\u001b[0msample\u001b[0m\u001b[0;34m(\u001b[0m\u001b[0mself\u001b[0m\u001b[0;34m.\u001b[0m\u001b[0mmodel\u001b[0m\u001b[0;34m.\u001b[0m\u001b[0mpopulation\u001b[0m\u001b[0;34m,\u001b[0m \u001b[0mlen\u001b[0m\u001b[0;34m(\u001b[0m\u001b[0mself\u001b[0m\u001b[0;34m.\u001b[0m\u001b[0mmodel\u001b[0m\u001b[0;34m.\u001b[0m\u001b[0mpopulation\u001b[0m\u001b[0;34m)\u001b[0m\u001b[0;34m)\u001b[0m\u001b[0;34m]\u001b[0m\u001b[0;34m\u001b[0m\u001b[0;34m\u001b[0m\u001b[0m\n\u001b[1;32m      5\u001b[0m         \u001b[0mself\u001b[0m\u001b[0;34m.\u001b[0m\u001b[0mbest\u001b[0m \u001b[0;34m=\u001b[0m \u001b[0mself\u001b[0m\u001b[0;34m.\u001b[0m\u001b[0mcalculate_distance\u001b[0m\u001b[0;34m(\u001b[0m\u001b[0mself\u001b[0m\u001b[0;34m.\u001b[0m\u001b[0mpop\u001b[0m\u001b[0;34m[\u001b[0m\u001b[0;36m0\u001b[0m\u001b[0;34m]\u001b[0m\u001b[0;34m)\u001b[0m\u001b[0;34m\u001b[0m\u001b[0;34m\u001b[0m\u001b[0m\n",
      "\u001b[0;31mNameError\u001b[0m: name 'Agent' is not defined"
     ]
    }
   ],
   "source": [
    "class TabuAgent(Agent):\n",
    "    def __init__(self, unique_id, model, max_tabu_size=10, collaboratif=True):\n",
    "        super().__init__(unique_id, model)\n",
    "        self.pop = [random.sample(self.model.population, len(self.model.population))]\n",
    "        self.best = self.calculate_distance(self.pop[0])\n",
    "        self.tabu_list = []\n",
    "        self.max_tabu_size = max_tabu_size\n",
    "        self.collaboratif = collaboratif\n",
    "        self.no_improvement_count = 0  # Compteur pour l’arrêt anticipé\n",
    "        self.max_no_improvement = 5   # Seuil pour arrêter si pas d’amélioration\n",
    "\n",
    "    def calculate_distance(self, solution):\n",
    "        distance = 0\n",
    "        for k in range(len(solution) - 1):\n",
    "            distance += solution[k].dist(solution[k + 1])\n",
    "        distance += solution[-1].dist(solution[0])\n",
    "        return distance\n",
    "\n",
    "    def get_neighbors(self, solution):\n",
    "        neighbors = []\n",
    "        # Limiter le nombre de voisins à 10% des permutations possibles pour optimiser\n",
    "        n = len(solution)\n",
    "        sample_size = min(n * (n - 1) // 2, max(10, n))  # Minimum 10 voisins ou 10% des permutations\n",
    "        indices = random.sample([(i, j) for i in range(n) for j in range(i + 1, n)], sample_size)\n",
    "        for i, j in indices:\n",
    "            neighbor = copy.deepcopy(solution)\n",
    "            neighbor[i], neighbor[j] = neighbor[j], neighbor[i]\n",
    "            neighbors.append(neighbor)\n",
    "        return neighbors\n",
    "\n",
    "    def contact(self):\n",
    "        min_distance = self.best\n",
    "        best_agent = None\n",
    "        for a in self.model.schedule.agents:\n",
    "            if a.best < min_distance:  # Recherche de la meilleure solution globale\n",
    "                min_distance = a.best\n",
    "                best_agent = a\n",
    "\n",
    "        # Recevoir une meilleure solution\n",
    "        if best_agent and min_distance < self.best:\n",
    "            best_idx = 0\n",
    "            for i, indiv in enumerate(best_agent.pop):\n",
    "                if Fitness(indiv).itFitness() > Fitness(best_agent.pop[best_idx]).itFitness():\n",
    "                    best_idx = i\n",
    "            self.pop[0] = best_agent.pop[best_idx]\n",
    "            self.best = self.calculate_distance(self.pop[0])\n",
    "            self.tabu_list.clear()  # Réinitialiser la liste tabou si une meilleure solution est trouvée\n",
    "            self.no_improvement_count = 0\n",
    "\n",
    "    def step(self):\n",
    "        current_solution = self.pop[0]\n",
    "        neighbors = self.get_neighbors(current_solution)\n",
    "        best_neighbor = None\n",
    "        best_neighbor_distance = float('inf')\n",
    "\n",
    "        for neighbor in neighbors:\n",
    "            neighbor_distance = self.calculate_distance(neighbor)\n",
    "            if neighbor not in self.tabu_list and neighbor_distance < best_neighbor_distance:\n",
    "                best_neighbor = neighbor\n",
    "                best_neighbor_distance = neighbor_distance\n",
    "\n",
    "        if best_neighbor and best_neighbor_distance < self.best:\n",
    "            self.pop[0] = best_neighbor\n",
    "            self.best = best_neighbor_distance\n",
    "            self.tabu_list.append(best_neighbor)\n",
    "            if len(self.tabu_list) > self.max_tabu_size:\n",
    "                self.tabu_list.pop(0)\n",
    "            self.no_improvement_count = 0\n",
    "        else:\n",
    "            self.no_improvement_count += 1\n",
    "\n",
    "        # Arrêt anticipé si aucune amélioration pendant trop longtemps\n",
    "        if self.no_improvement_count < self.max_no_improvement and self.collaboratif:\n",
    "            self.contact()"
   ]
  },
  {
   "cell_type": "markdown",
   "id": "53509a62",
   "metadata": {
    "id": "9e98e451-6c84-4f5d-b8f3-29c9fd8b0b59",
    "papermill": {
     "duration": null,
     "end_time": null,
     "exception": null,
     "start_time": null,
     "status": "pending"
    },
    "tags": []
   },
   "source": [
    "**COLLABORATION**"
   ]
  },
  {
   "cell_type": "code",
   "execution_count": null,
   "id": "42d2f9ff",
   "metadata": {
    "execution": {
     "iopub.execute_input": "2025-03-18T12:12:26.603372Z",
     "iopub.status.busy": "2025-03-18T12:12:26.603071Z",
     "iopub.status.idle": "2025-03-18T12:12:27.747008Z",
     "shell.execute_reply": "2025-03-18T12:12:27.745754Z",
     "shell.execute_reply.started": "2025-03-18T12:12:26.603320Z"
    },
    "id": "290xu9lLAPne",
    "papermill": {
     "duration": null,
     "end_time": null,
     "exception": null,
     "start_time": null,
     "status": "pending"
    },
    "tags": []
   },
   "outputs": [],
   "source": [
    "!pip install mesa==3.1.0"
   ]
  },
  {
   "cell_type": "code",
   "execution_count": null,
   "id": "cae281bd",
   "metadata": {
    "execution": {
     "iopub.execute_input": "2025-03-18T12:12:27.748868Z",
     "iopub.status.busy": "2025-03-18T12:12:27.748497Z",
     "iopub.status.idle": "2025-03-18T12:12:35.199060Z",
     "shell.execute_reply": "2025-03-18T12:12:35.197889Z",
     "shell.execute_reply.started": "2025-03-18T12:12:27.748830Z"
    },
    "id": "220cde45-5171-4496-8570-3ee802d6c68a",
    "outputId": "056ff242-1fad-4530-a371-0f9feea8eac5",
    "papermill": {
     "duration": null,
     "end_time": null,
     "exception": null,
     "start_time": null,
     "status": "pending"
    },
    "tags": []
   },
   "outputs": [],
   "source": [
    "from mesa import Agent, Model\n",
    "from mesa.time import RandomActivation  # Pour votre version actuelle\n",
    "from mesa.datacollection import DataCollector\n",
    "import random\n",
    "import copy\n",
    "import operator\n",
    "import matplotlib.pyplot as plt\n",
    "\n",
    "class OptGenAgent(Agent):\n",
    "\n",
    "    def __init__(self, unique_id, model, collaboratif=False):\n",
    "            super().__init__(unique_id, model)  \n",
    "            self.pop = initialPopulation(self.model.popSize, self.model.population) \n",
    "            self.best = 1 / rankIts(self.pop)[0][1]  \n",
    "            self.collaboratif = collaboratif\n",
    "\n",
    "    def contact(self):\n",
    "        min_best = self.best\n",
    "        best_agent = None\n",
    "        for a in self.model.schedule.agents: \n",
    "            if a.best < min_best:\n",
    "                min_best = a.best\n",
    "                best_agent = a\n",
    "\n",
    "        if best_agent and min_best < self.best:\n",
    "            mon_meilleure_fitness = 0\n",
    "            for i in range(len(self.pop)):\n",
    "                if Fitness(self.pop[i]).itFitness() > mon_meilleure_fitness:\n",
    "                    mon_meilleure_fitness = Fitness(self.pop[i]).itFitness()\n",
    "                    mon_meilleur_gene = i\n",
    "\n",
    "            son_meilleure_fitness = 0\n",
    "            for i in range(len(best_agent.pop)):\n",
    "                if Fitness(best_agent.pop[i]).itFitness() > son_meilleure_fitness:\n",
    "                    son_meilleure_fitness = Fitness(best_agent.pop[i]).itFitness()\n",
    "                    son_meilleur_gene = i\n",
    "\n",
    "            self.pop[mon_meilleur_gene] = best_agent.pop[son_meilleur_gene]\n",
    "            self.best = 1 / rankIts(self.pop)[0][1]\n",
    "\n",
    "    def step(self):\n",
    "        self.pop = nextGeneration(self.pop, self.model.eliteSize, self.model.mutationRate)\n",
    "        self.best = 1 / rankIts(self.pop)[0][1]\n",
    "        if self.collaboratif:\n",
    "            self.contact()\n",
    "\n",
    "class TabuAgent(Agent):\n",
    "    def __init__(self, unique_id, model, max_tabu_size=10, collaboratif=True):\n",
    "        super().__init__(unique_id, model)  # Correctly call super()\n",
    "        self.pop = [random.sample(model.population, len(model.population))]\n",
    "        self.best = self.calculate_distance(self.pop[0])\n",
    "        self.tabu_list = []\n",
    "        self.max_tabu_size = max_tabu_size\n",
    "        self.collaboratif = collaboratif\n",
    "        self.no_improvement_count = 0  \n",
    "        self.max_no_improvement = 5\n",
    "\n",
    "    def calculate_distance(self, solution):\n",
    "        distance = 0\n",
    "        for k in range(len(solution) - 1):\n",
    "            distance += solution[k].dist(solution[k + 1])\n",
    "        distance += solution[-1].dist(solution[0])\n",
    "        return distance\n",
    "\n",
    "    def get_neighbors(self, solution):\n",
    "        neighbors = []\n",
    "        n = len(solution)\n",
    "        sample_size = min(n * (n - 1) // 2, max(10, n))\n",
    "        indices = random.sample([(i, j) for i in range(n) for j in range(i + 1, n)], sample_size)\n",
    "        for i, j in indices:\n",
    "            neighbor = copy.deepcopy(solution)\n",
    "            neighbor[i], neighbor[j] = neighbor[j], neighbor[i]\n",
    "            neighbors.append(neighbor)\n",
    "        return neighbors\n",
    "\n",
    "    def contact(self):\n",
    "        min_best = self.best\n",
    "        best_agent = None\n",
    "        for a in self.model.schedule.agents:\n",
    "            if a.best < min_best:\n",
    "                min_best = a.best\n",
    "                best_agent = a\n",
    "\n",
    "        if best_agent and min_best < self.best:\n",
    "            best_idx = 0\n",
    "            for i, indiv in enumerate(best_agent.pop):\n",
    "                if Fitness(indiv).itFitness() > Fitness(best_agent.pop[best_idx]).itFitness():\n",
    "                    best_idx = i\n",
    "            self.pop[0] = best_agent.pop[best_idx]\n",
    "            self.best = self.calculate_distance(self.pop[0])\n",
    "            self.tabu_list.clear()\n",
    "\n",
    "    def step(self):\n",
    "        current_solution = self.pop[0]\n",
    "        neighbors = self.get_neighbors(current_solution)\n",
    "        best_neighbor = None\n",
    "        best_neighbor_distance = float('inf')\n",
    "\n",
    "        for neighbor in neighbors:\n",
    "            neighbor_distance = self.calculate_distance(neighbor)\n",
    "            if neighbor not in self.tabu_list and neighbor_distance < best_neighbor_distance:\n",
    "                best_neighbor = neighbor\n",
    "                best_neighbor_distance = neighbor_distance\n",
    "\n",
    "        if best_neighbor and best_neighbor_distance < self.best:\n",
    "            self.pop[0] = best_neighbor\n",
    "            self.best = best_neighbor_distance\n",
    "            self.tabu_list.append(best_neighbor)\n",
    "            if len(self.tabu_list) > self.max_tabu_size:\n",
    "                self.tabu_list.pop(0)\n",
    "\n",
    "        if self.collaboratif:\n",
    "            self.contact()\n",
    "\n",
    "class OptimisationCollaborativeModel(Model):\n",
    "    def __init__(self, population, N_gen=5, N_tabu=1, popSize=100, eliteSize=20, mutationRate=0.01):\n",
    "        super().__init__()\n",
    "        self.population = population\n",
    "        self.popSize = popSize\n",
    "        self.eliteSize = eliteSize\n",
    "        self.mutationRate = mutationRate\n",
    "        self.schedule = RandomActivation(self)\n",
    "\n",
    "        # Ajouter les agents génétiques (tous collaboratifs)\n",
    "        for i in range(N_gen):\n",
    "            a = OptGenAgent(i, self, True) \n",
    "            self.schedule.add(a)\n",
    "\n",
    "        # Ajouter les agents tabou (collaboratifs par défaut)\n",
    "        for i in range(N_tabu):\n",
    "            a = TabuAgent(N_gen + i, self) \n",
    "            self.schedule.add(a)\n",
    "\n",
    "        self.datacollector = DataCollector(\n",
    "            agent_reporters={\"Best\": lambda a: a.best}\n",
    "        )\n",
    "\n",
    "    def step(self):\n",
    "        self.datacollector.collect(self)\n",
    "        self.schedule.step()  \n",
    "\n",
    "\n",
    "generations = 100\n",
    "cityList = [Point(x=int(random.random() * 200), y=int(random.random() * 200)) for _ in range(25)]\n",
    "\n",
    "model_collab = OptimisationCollaborativeModel(cityList, N_gen=5, N_tabu=1)\n",
    "for i in range(generations):\n",
    "    print(f\"Génération {i+1} (Collaboration)\")\n",
    "    model_collab.step()\n",
    "\n",
    "agent_state_collab = model_collab.datacollector.get_agent_vars_dataframe()\n",
    "res_collab = agent_state_collab.unstack()\n",
    "print(\"Résultats avec collaboration :\")\n",
    "print(res_collab)\n",
    "res_collab.plot(title=\"Collaboration AG + Tabou\")\n",
    "plt.show()\n",
    "print(\"Meilleure valeur trouvée (Collaboration) : \", res_collab.min().min())\n",
    "\n",
    "# Simulation sans collaboration (seulement AG)\n",
    "model_no_collab = OptimisationCollaborativeModel(cityList, N_gen=6, N_tabu=0)  # 6 AG, pas de Tabou\n",
    "for i in range(generations):\n",
    "    print(f\"Génération {i+1} (Sans collaboration)\")\n",
    "    model_no_collab.step()\n",
    "\n",
    "agent_state_no_collab = model_no_collab.datacollector.get_agent_vars_dataframe()\n",
    "res_no_collab = agent_state_no_collab.unstack()\n",
    "print(\"Résultats sans collaboration :\")\n",
    "print(res_no_collab)\n",
    "res_no_collab.plot(title=\"Seulement AG\")\n",
    "plt.show()\n",
    "print(\"Meilleure valeur trouvée (Sans collaboration) : \", res_no_collab.min().min())"
   ]
  }
 ],
 "metadata": {
  "colab": {
   "provenance": []
  },
  "kaggle": {
   "accelerator": "none",
   "dataSources": [],
   "dockerImageVersionId": 30918,
   "isGpuEnabled": false,
   "isInternetEnabled": true,
   "language": "python",
   "sourceType": "notebook"
  },
  "kernelspec": {
   "display_name": "Python 3",
   "language": "python",
   "name": "python3"
  },
  "language_info": {
   "codemirror_mode": {
    "name": "ipython",
    "version": 3
   },
   "file_extension": ".py",
   "mimetype": "text/x-python",
   "name": "python",
   "nbconvert_exporter": "python",
   "pygments_lexer": "ipython3",
   "version": "3.10.12"
  },
  "papermill": {
   "default_parameters": {},
   "duration": 25.516439,
   "end_time": "2025-03-18T12:19:28.159330",
   "environment_variables": {},
   "exception": true,
   "input_path": "__notebook__.ipynb",
   "output_path": "__notebook__.ipynb",
   "parameters": {},
   "start_time": "2025-03-18T12:19:02.642891",
   "version": "2.6.0"
  }
 },
 "nbformat": 4,
 "nbformat_minor": 5
}
